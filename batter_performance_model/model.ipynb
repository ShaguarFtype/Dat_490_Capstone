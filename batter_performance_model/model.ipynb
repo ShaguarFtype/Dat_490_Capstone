{
  "nbformat": 4,
  "nbformat_minor": 0,
  "metadata": {
    "colab": {
      "provenance": []
    },
    "kernelspec": {
      "name": "python3",
      "display_name": "Python 3"
    },
    "language_info": {
      "name": "python"
    }
  },
  "cells": [
    {
      "cell_type": "code",
      "source": [
        "import pandas as pd\n",
        "import numpy as np\n",
        "import tensorflow as tf\n",
        "import seaborn as sns\n",
        "import matplotlib.pyplot as plt\n",
        "import statsmodels.api as sm\n",
        "from sklearn.preprocessing import StandardScaler\n",
        "from sklearn.pipeline import make_pipeline\n",
        "from sklearn.model_selection import train_test_split\n",
        "from sklearn.tree import DecisionTreeRegressor\n",
        "from sklearn.neural_network import MLPRegressor\n",
        "from sklearn.neighbors import KNeighborsClassifier\n",
        "from sklearn.model_selection import cross_val_score\n",
        "from scipy.stats import pearsonr\n",
        "from sklearn.metrics import accuracy_score, precision_score, recall_score, f1_score\n",
        "from sklearn.metrics import confusion_matrix\n",
        "\n",
        "from google.colab import drive\n",
        "drive.mount('/content/drive')"
      ],
      "metadata": {
        "id": "ytrL6yD198q0",
        "colab": {
          "base_uri": "https://localhost:8080/"
        },
        "outputId": "958fc43f-3024-4c5b-d2ed-fb78f5a98dba"
      },
      "execution_count": null,
      "outputs": [
        {
          "output_type": "stream",
          "name": "stdout",
          "text": [
            "Drive already mounted at /content/drive; to attempt to forcibly remount, call drive.mount(\"/content/drive\", force_remount=True).\n"
          ]
        }
      ]
    },
    {
      "cell_type": "code",
      "source": [
        "file_path_1 = '/content/drive/MyDrive/Colab Notebooks/minors_batting_advanced.csv'\n",
        "file_path_2 = '/content/drive/MyDrive/Colab Notebooks/minors_batting_profile.csv'\n",
        "file_path_3 = '/content/drive/MyDrive/Colab Notebooks/minors_batting_standard.csv'\n",
        "\n",
        "mbatting1 = pd.read_csv(file_path_1)\n",
        "mbatting2 = pd.read_csv(file_path_2)\n",
        "mbatting3 = pd.read_csv(file_path_3)\n",
        "\n",
        "mbatting4 = pd.merge(mbatting3, mbatting2.drop(columns = ['Name', 'Age', 'PA']), on=['PlayerId', 'Season', 'Team', 'Level'], how='inner')\n",
        "mbatting = pd.merge(mbatting4, mbatting1.drop(columns = ['Name', 'Age', 'BABIP', 'PA', 'AVG']), on=['PlayerId', 'Season', 'Team', 'Level'], how='inner')\n",
        "\n",
        "mbatting = mbatting[~((mbatting['PA'] == 0) | (mbatting['PA'].isna()))]\n",
        "print(mbatting.columns)"
      ],
      "metadata": {
        "colab": {
          "base_uri": "https://localhost:8080/"
        },
        "id": "0bbhqRTMRZCh",
        "outputId": "e50d1b7c-afdb-4595-be73-33b14509022c"
      },
      "execution_count": null,
      "outputs": [
        {
          "output_type": "stream",
          "name": "stdout",
          "text": [
            "Index(['Season', 'Name', 'Team', 'Level', 'Age', 'G', 'AB', 'PA', 'H', '1B',\n",
            "       '2B', '3B', 'HR', 'R', 'RBI', 'BB', 'IBB', 'SO', 'HBP', 'SF', 'SH',\n",
            "       'GDP', 'SB', 'CS', 'AVG', 'PlayerId', 'BABIP', 'GB/FB', 'LD%', 'GB%',\n",
            "       'FB%', 'IFFB%', 'HR/FB', 'Pull%', 'Cent%', 'Oppo%', 'SwStr%', 'Balls',\n",
            "       'Strikes', 'Pitches', 'BB%', 'K%', 'BB/K', 'OBP', 'SLG', 'OPS', 'ISO',\n",
            "       'Spd', 'wSB', 'wRC', 'wRAA', 'wOBA', 'wRC+'],\n",
            "      dtype='object')\n"
          ]
        }
      ]
    },
    {
      "cell_type": "code",
      "source": [
        "file_path_1 = '/content/drive/MyDrive/Colab Notebooks/stats_MLB_batter_2007_2024.csv'\n",
        "\n",
        "majorsbatting = pd.read_csv(file_path_1)\n",
        "\n",
        "temp = majorsbatting['last_name, first_name'].str.split(', ', expand=True)\n",
        "temp.columns = ['last', 'first']\n",
        "majorsbatting['Name'] = temp['first'] + \" \" + temp['last']\n",
        "majorsbatting['Name'] = majorsbatting['Name'].str.rstrip()\n",
        "majorsbatting['FirstYear'] = majorsbatting.groupby('Name')['year'].transform('min')\n",
        "majorsbatting = majorsbatting[majorsbatting['year'] == majorsbatting['FirstYear']]\n",
        "\n",
        "majorsbatting = pd.merge(mbatting, majorsbatting, left_on='Name', right_on='Name', how='inner')\n",
        "majorsbatting = majorsbatting[majorsbatting['Season'] <= majorsbatting['FirstYear']]\n",
        "\n",
        "print(majorsbatting.columns)"
      ],
      "metadata": {
        "colab": {
          "base_uri": "https://localhost:8080/"
        },
        "id": "S4I4C3xhUCEP",
        "outputId": "4473cf2f-fa1e-4b45-a0ad-55b7530ba466"
      },
      "execution_count": null,
      "outputs": [
        {
          "output_type": "stream",
          "name": "stdout",
          "text": [
            "Index(['Season', 'Name', 'Team', 'Level', 'Age', 'G', 'AB', 'PA', 'H', '1B',\n",
            "       '2B', '3B', 'HR', 'R', 'RBI', 'BB', 'IBB', 'SO', 'HBP', 'SF', 'SH',\n",
            "       'GDP', 'SB', 'CS', 'AVG', 'PlayerId', 'BABIP', 'GB/FB', 'LD%', 'GB%',\n",
            "       'FB%', 'IFFB%', 'HR/FB', 'Pull%', 'Cent%', 'Oppo%', 'SwStr%', 'Balls',\n",
            "       'Strikes', 'Pitches', 'BB%', 'K%', 'BB/K', 'OBP', 'SLG', 'OPS', 'ISO',\n",
            "       'Spd', 'wSB', 'wRC', 'wRAA', 'wOBA', 'wRC+', 'last_name, first_name',\n",
            "       'player_id', 'year', 'pa', 'k_percent', 'bb_percent', 'woba', 'xwoba',\n",
            "       'sweet_spot_percent', 'barrel_batted_rate', 'hard_hit_percent',\n",
            "       'avg_best_speed', 'avg_hyper_speed', 'whiff_percent', 'swing_percent',\n",
            "       'FirstYear'],\n",
            "      dtype='object')\n"
          ]
        }
      ]
    },
    {
      "cell_type": "code",
      "source": [
        "file_path_1 = '/content/drive/MyDrive/Colab Notebooks/MLB Batting Advanced.csv'\n",
        "file_path_2 = '/content/drive/MyDrive/Colab Notebooks/MLB Batting Profile.csv'\n",
        "file_path_3 = '/content/drive/MyDrive/Colab Notebooks/MLB Batting Standard.csv'\n",
        "file_path_4 = '/content/drive/MyDrive/Colab Notebooks/MLB Batter Age.csv'\n",
        "\n",
        "mbatting1 = pd.read_csv(file_path_1)\n",
        "mbatting2 = pd.read_csv(file_path_2)\n",
        "mbatting3 = pd.read_csv(file_path_3)\n",
        "mbatting5 = pd.read_csv(file_path_4)\n",
        "\n",
        "mbatting4 = pd.merge(mbatting3, mbatting2.drop(columns = ['Name', 'NameASCII', 'MLBAMID']), on=['PlayerId', 'Season', 'Team'], how='inner')\n",
        "batting = pd.merge(mbatting4, mbatting1.drop(columns = ['Name', 'BABIP', 'AVG', 'PA', 'NameASCII', 'MLBAMID']), on=['PlayerId', 'Season', 'Team'], how='inner')\n",
        "batting = pd.merge(batting, mbatting5.drop(columns = ['NameASCII', 'PlayerId', 'MLBAMID']), on=['Name', 'Season', 'Team'], how='inner')\n",
        "\n",
        "batting = batting[~((batting['PA'] == 0) | (batting['PA'].isna()))]\n",
        "print(batting.columns)"
      ],
      "metadata": {
        "colab": {
          "base_uri": "https://localhost:8080/"
        },
        "id": "O3UpD0njUMXH",
        "outputId": "64267072-b568-4464-f1e7-a34be9ac9bbb"
      },
      "execution_count": null,
      "outputs": [
        {
          "output_type": "stream",
          "name": "stdout",
          "text": [
            "Index(['Season', 'Name', 'Team', 'G', 'AB', 'PA', 'H', '1B', '2B', '3B', 'HR',\n",
            "       'R', 'RBI', 'BB', 'IBB', 'SO', 'HBP', 'SF', 'SH', 'GDP', 'SB', 'CS',\n",
            "       'AVG', 'NameASCII', 'PlayerId', 'MLBAMID', 'BABIP', 'GB/FB', 'LD%',\n",
            "       'GB%', 'FB%', 'IFFB%', 'HR/FB', 'IFH', 'IFH%', 'BUH', 'BUH%', 'Pull%',\n",
            "       'Cent%', 'Oppo%', 'Soft%', 'Med%', 'Hard%', 'BB%', 'K%', 'BB/K', 'OBP',\n",
            "       'SLG', 'OPS', 'ISO', 'Spd', 'UBR', 'wGDP', 'XBR', 'wSB', 'wRC', 'wRAA',\n",
            "       'wOBA', 'wRC+', 'Age'],\n",
            "      dtype='object')\n"
          ]
        }
      ]
    },
    {
      "cell_type": "code",
      "source": [
        "# Age 21 subset\n",
        "batting21 = batting[batting['Age'] == 21].copy()\n",
        "batting21 = batting21.drop(columns=[\n",
        "    'Season','G','AB','H','1B','2B','3B','R','RBI','BB','IBB','SO',\n",
        "    'HBP','SF','SH','GDP','SB','CS','PlayerId','NameASCII','MLBAMID',\n",
        "    'GB/FB','LD%','GB%','FB%','IFFB%','HR/FB','Pull%','Cent%','Oppo%',\n",
        "    'SwStr%','Balls','Strikes','Pitches','OBP','SLG','OPS','ISO','Spd',\n",
        "    'wSB','wRC','wRAA','wOBA','wRC+','Age'\n",
        "], errors='ignore')\n",
        "batting21 = batting21.rename(columns={\n",
        "    'AVG': 'AVG21',\n",
        "    'PA': 'PA21',\n",
        "    'BABIP': 'BABIP21',\n",
        "    'K%': 'K%21',\n",
        "    'BB%': 'BB%21',\n",
        "    'HR': 'HR21'\n",
        "})\n",
        "\n",
        "# Age 22 subset\n",
        "batting22 = batting[batting['Age'] == 22].copy()\n",
        "batting22 = batting22.drop(columns=[\n",
        "    'Season','G','AB','H','1B','2B','3B','R','RBI','BB','IBB','SO',\n",
        "    'HBP','SF','SH','GDP','SB','CS','PlayerId','NameASCII','MLBAMID',\n",
        "    'GB/FB','LD%','GB%','FB%','IFFB%','HR/FB','Pull%','Cent%','Oppo%',\n",
        "    'SwStr%','Balls','Strikes','Pitches','OBP','SLG','OPS','ISO','Spd',\n",
        "    'wSB','wRC','wRAA','wOBA','wRC+','Age'\n",
        "], errors='ignore')\n",
        "batting22 = batting22.rename(columns={\n",
        "    'AVG': 'AVG22',\n",
        "    'PA': 'PA22',\n",
        "    'BABIP': 'BABIP22',\n",
        "    'K%': 'K%22',\n",
        "    'BB%': 'BB%22',\n",
        "    'HR': 'HR22'\n",
        "})\n",
        "\n",
        "# Age 23 subset\n",
        "batting23 = batting[batting['Age'] == 23].copy()\n",
        "batting23 = batting23.drop(columns=[\n",
        "    'Season','G','AB','H','1B','2B','3B','R','RBI','BB','IBB','SO',\n",
        "    'HBP','SF','SH','GDP','SB','CS','PlayerId','NameASCII','MLBAMID',\n",
        "    'GB/FB','LD%','GB%','FB%','IFFB%','HR/FB','Pull%','Cent%','Oppo%',\n",
        "    'SwStr%','Balls','Strikes','Pitches','OBP','SLG','OPS','ISO','Spd',\n",
        "    'wSB','wRC','wRAA','wOBA','wRC+','Age'\n",
        "], errors='ignore')\n",
        "batting23 = batting23.rename(columns={\n",
        "    'AVG': 'AVG23',\n",
        "    'PA': 'PA23',\n",
        "    'BABIP': 'BABIP23',\n",
        "    'K%': 'K%23',\n",
        "    'BB%': 'BB%23',\n",
        "    'HR': 'HR23'\n",
        "})\n",
        "\n",
        "# Age 24 subset\n",
        "batting24 = batting[batting['Age'] == 24].copy()\n",
        "batting24 = batting24.drop(columns=[\n",
        "    'Season','G','AB','H','1B','2B','3B','R','RBI','BB','IBB','SO',\n",
        "    'HBP','SF','SH','GDP','SB','CS','PlayerId','NameASCII','MLBAMID',\n",
        "    'GB/FB','LD%','GB%','FB%','IFFB%','HR/FB','Pull%','Cent%','Oppo%',\n",
        "    'SwStr%','Balls','Strikes','Pitches','OBP','SLG','OPS','ISO','Spd',\n",
        "    'wSB','wRC','wRAA','wOBA','wRC+','Age'\n",
        "], errors='ignore')\n",
        "batting24 = batting24.rename(columns={\n",
        "    'AVG': 'AVG24',\n",
        "    'PA': 'PA24',\n",
        "    'BABIP': 'BABIP24',\n",
        "    'K%': 'K%24',\n",
        "    'BB%': 'BB%24',\n",
        "    'HR': 'HR24'\n",
        "})\n",
        "\n",
        "# Age 25 subset\n",
        "batting25 = batting[batting['Age'] == 25].copy()\n",
        "batting25 = batting25.drop(columns=[\n",
        "    'Season','G','AB','H','1B','2B','3B','R','RBI','BB','IBB','SO',\n",
        "    'HBP','SF','SH','GDP','SB','CS','PlayerId','NameASCII','MLBAMID',\n",
        "    'GB/FB','LD%','GB%','FB%','IFFB%','HR/FB','Pull%','Cent%','Oppo%',\n",
        "    'SwStr%','Balls','Strikes','Pitches','OBP','SLG','OPS','ISO','Spd',\n",
        "    'wSB','wRC','wRAA','wOBA','wRC+','Age'\n",
        "], errors='ignore')\n",
        "batting25 = batting25.rename(columns={\n",
        "    'AVG': 'AVG25',\n",
        "    'PA': 'PA25',\n",
        "    'BABIP': 'BABIP25',\n",
        "    'K%': 'K%25',\n",
        "    'BB%': 'BB%25',\n",
        "    'HR': 'HR25'\n",
        "})\n",
        "\n",
        "# Age 26 subset\n",
        "batting26 = batting[batting['Age'] == 26].copy()\n",
        "batting26 = batting26.drop(columns=[\n",
        "    'Season','G','AB','H','1B','2B','3B','R','RBI','BB','IBB','SO',\n",
        "    'HBP','SF','SH','GDP','SB','CS','PlayerId','NameASCII','MLBAMID',\n",
        "    'GB/FB','LD%','GB%','FB%','IFFB%','HR/FB','Pull%','Cent%','Oppo%',\n",
        "    'SwStr%','Balls','Strikes','Pitches','OBP','SLG','OPS','ISO','Spd',\n",
        "    'wSB','wRC','wRAA','wOBA','wRC+','Age'\n",
        "], errors='ignore')\n",
        "batting26 = batting26.rename(columns={\n",
        "    'AVG': 'AVG26',\n",
        "    'PA': 'PA26',\n",
        "    'BABIP': 'BABIP26',\n",
        "    'K%': 'K%26',\n",
        "    'BB%': 'BB%26',\n",
        "    'HR': 'HR26'\n",
        "})\n",
        "\n",
        "# Age 27 subset\n",
        "batting27 = batting[batting['Age'] == 27].copy()\n",
        "batting27 = batting27.drop(columns=[\n",
        "    'Season','G','AB','H','1B','2B','3B','R','RBI','BB','IBB','SO',\n",
        "    'HBP','SF','SH','GDP','SB','CS','PlayerId','NameASCII','MLBAMID',\n",
        "    'GB/FB','LD%','GB%','FB%','IFFB%','HR/FB','Pull%','Cent%','Oppo%',\n",
        "    'SwStr%','Balls','Strikes','Pitches','OBP','SLG','OPS','ISO','Spd',\n",
        "    'wSB','wRC','wRAA','wOBA','wRC+','Age'\n",
        "], errors='ignore')\n",
        "batting27 = batting27.rename(columns={\n",
        "    'AVG': 'AVG27',\n",
        "    'PA': 'PA27',\n",
        "    'BABIP': 'BABIP27',\n",
        "    'K%': 'K%27',\n",
        "    'BB%': 'BB%27',\n",
        "    'HR': 'HR27'\n",
        "})\n",
        "\n",
        "# Age 28 subset\n",
        "batting28 = batting[batting['Age'] == 28].copy()\n",
        "batting28 = batting28.drop(columns=[\n",
        "    'Season','G','AB','H','1B','2B','3B','R','RBI','BB','IBB','SO',\n",
        "    'HBP','SF','SH','GDP','SB','CS','PlayerId','NameASCII','MLBAMID',\n",
        "    'GB/FB','LD%','GB%','FB%','IFFB%','HR/FB','Pull%','Cent%','Oppo%',\n",
        "    'SwStr%','Balls','Strikes','Pitches','OBP','SLG','OPS','ISO','Spd',\n",
        "    'wSB','wRC','wRAA','wOBA','wRC+','Age'\n",
        "], errors='ignore')\n",
        "batting28 = batting28.rename(columns={\n",
        "    'AVG': 'AVG28',\n",
        "    'PA': 'PA28',\n",
        "    'BABIP': 'BABIP28',\n",
        "    'K%': 'K%28',\n",
        "    'BB%': 'BB%28',\n",
        "    'HR': 'HR28'\n",
        "})\n",
        "\n",
        "# Age 29 subset\n",
        "batting29 = batting[batting['Age'] == 29].copy()\n",
        "batting29 = batting29.drop(columns=[\n",
        "    'Season','G','AB','H','1B','2B','3B','R','RBI','BB','IBB','SO',\n",
        "    'HBP','SF','SH','GDP','SB','CS','PlayerId','NameASCII','MLBAMID',\n",
        "    'GB/FB','LD%','GB%','FB%','IFFB%','HR/FB','Pull%','Cent%','Oppo%',\n",
        "    'SwStr%','Balls','Strikes','Pitches','OBP','SLG','OPS','ISO','Spd',\n",
        "    'wSB','wRC','wRAA','wOBA','wRC+','Age'\n",
        "], errors='ignore')\n",
        "batting29 = batting29.rename(columns={\n",
        "    'AVG': 'AVG29',\n",
        "    'PA': 'PA29',\n",
        "    'BABIP': 'BABIP29',\n",
        "    'K%': 'K%29',\n",
        "    'BB%': 'BB%29',\n",
        "    'HR': 'HR29'\n",
        "})\n",
        "\n",
        "# Age 30 subset\n",
        "batting30 = batting[batting['Age'] == 30].copy()\n",
        "batting30 = batting30.drop(columns=[\n",
        "    'Season','G','AB','H','1B','2B','3B','R','RBI','BB','IBB','SO',\n",
        "    'HBP','SF','SH','GDP','SB','CS','PlayerId','NameASCII','MLBAMID',\n",
        "    'GB/FB','LD%','GB%','FB%','IFFB%','HR/FB','Pull%','Cent%','Oppo%',\n",
        "    'SwStr%','Balls','Strikes','Pitches','OBP','SLG','OPS','ISO','Spd',\n",
        "    'wSB','wRC','wRAA','wOBA','wRC+','Age'\n",
        "], errors='ignore')\n",
        "batting30 = batting30.rename(columns={\n",
        "    'AVG': 'AVG30',\n",
        "    'PA': 'PA30',\n",
        "    'BABIP': 'BABIP30',\n",
        "    'K%': 'K%30',\n",
        "    'BB%': 'BB%30',\n",
        "    'HR': 'HR30'\n",
        "})\n",
        "\n",
        "\n",
        "mbatting = pd.get_dummies(mbatting, columns=['Level'], drop_first=True)\n",
        "mbatting = mbatting.fillna(0)\n",
        "\n",
        "batting21 = pd.merge(mbatting, batting21, on=['Name', 'Team'], how='right')\n",
        "batting22 = pd.merge(mbatting, batting22, on=['Name', 'Team'], how='right')\n",
        "batting23 = pd.merge(mbatting, batting23, on=['Name', 'Team'], how='right')\n",
        "batting24 = pd.merge(mbatting, batting24, on=['Name', 'Team'], how='right')\n",
        "batting25 = pd.merge(mbatting, batting25, on=['Name', 'Team'], how='right')\n",
        "batting26 = pd.merge(mbatting, batting26, on=['Name', 'Team'], how='right')\n",
        "batting27 = pd.merge(mbatting, batting27, on=['Name', 'Team'], how='right')\n",
        "batting28 = pd.merge(mbatting, batting28, on=['Name', 'Team'], how='right')\n",
        "batting29 = pd.merge(mbatting, batting29, on=['Name', 'Team'], how='right')\n",
        "batting30 = pd.merge(mbatting, batting30, on=['Name', 'Team'], how='right')\n",
        "\n",
        "batting21 = batting21[batting21['Age'] <= 21]\n",
        "batting22 = batting22[batting22['Age'] <= 22]\n",
        "batting23 = batting23[batting23['Age'] <= 23]\n",
        "batting24 = batting24[batting24['Age'] <= 24]\n",
        "batting25 = batting25[batting25['Age'] <= 25]\n",
        "batting26 = batting26[batting26['Age'] <= 26]\n",
        "batting27 = batting27[batting27['Age'] <= 27]\n",
        "batting28 = batting28[batting28['Age'] <= 28]\n",
        "batting29 = batting29[batting29['Age'] <= 29]\n",
        "batting30 = batting30[batting30['Age'] <= 30]\n",
        "\n",
        "print(batting21.columns)"
      ],
      "metadata": {
        "colab": {
          "base_uri": "https://localhost:8080/"
        },
        "id": "EqiI-GaajOsU",
        "outputId": "88ab51d0-37df-416c-877d-20341d85233d"
      },
      "execution_count": null,
      "outputs": [
        {
          "output_type": "stream",
          "name": "stdout",
          "text": [
            "Index(['Season', 'Name', 'Team', 'Age', 'G', 'AB', 'PA', 'H', '1B', '2B', '3B',\n",
            "       'HR', 'R', 'RBI', 'BB', 'IBB', 'SO', 'HBP', 'SF', 'SH', 'GDP', 'SB',\n",
            "       'CS', 'AVG', 'PlayerId', 'BABIP', 'GB/FB', 'LD%', 'GB%', 'FB%', 'IFFB%',\n",
            "       'HR/FB', 'Pull%', 'Cent%', 'Oppo%', 'SwStr%', 'Balls', 'Strikes',\n",
            "       'Pitches', 'BB%', 'K%', 'BB/K_x', 'OBP', 'SLG', 'OPS', 'ISO', 'Spd',\n",
            "       'wSB', 'wRC', 'wRAA', 'wOBA', 'wRC+', 'Level_A+', 'Level_A-',\n",
            "       'Level_AA', 'Level_AAA', 'Level_CPX', 'Level_DSL', 'Level_R', 'PA21',\n",
            "       'HR21', 'AVG21', 'BABIP21', 'IFH', 'IFH%', 'BUH', 'BUH%', 'Soft%',\n",
            "       'Med%', 'Hard%', 'BB%21', 'K%21', 'BB/K_y', 'UBR', 'wGDP', 'XBR'],\n",
            "      dtype='object')\n"
          ]
        }
      ]
    },
    {
      "cell_type": "code",
      "source": [
        "# # For 27-year-olds:\n",
        "# bat27XTrain, bat27XTest, bat27YTrain, bat27YTest = train_test_split(\n",
        "#     batting27.drop(columns=[\n",
        "#         'Season', 'Name', 'Team', 'Age',\n",
        "#         # Drop counting/stat columns from MLB batting that we don't want as features:\n",
        "#         'G', 'AB', 'H', '1B', '2B', '3B', 'R', 'RBI', 'BB', 'IBB', 'SO',\n",
        "#         'HBP', 'SF', 'SH', 'GDP', 'SB', 'CS',\n",
        "#         'PlayerId', 'NameASCII', 'MLBAMID',\n",
        "#         'BABIP', 'GB/FB', 'LD%', 'GB%', 'FB%', 'IFFB%', 'HR/FB',\n",
        "#         'Pull%', 'Cent%', 'Oppo%', 'SwStr%',\n",
        "#         'OBP', 'SLG', 'OPS', 'ISO', 'Spd', 'wSB', 'wRC', 'wRAA', 'wOBA', 'wRC+',\n",
        "#         'AVG', 'PA', 'K%', 'BB%', 'HR',\n",
        "#         # Also drop the renamed target columns (so they’re not used as features):\n",
        "#         'AVG27', 'PA27', 'BABIP27', 'K%27', 'BB%27', 'HR27'\n",
        "#     ], errors='ignore'),\n",
        "#     batting27.drop(columns=[\n",
        "#         'Season', 'Name', 'Team', 'Age',\n",
        "#         'G', 'AB', 'H', '1B', '2B', '3B', 'R', 'RBI', 'BB', 'IBB', 'SO',\n",
        "#         'HBP', 'SF', 'SH', 'GDP', 'SB', 'CS',\n",
        "#         'PlayerId', 'NameASCII', 'MLBAMID',\n",
        "#         'BABIP', 'GB/FB', 'LD%', 'GB%', 'FB%', 'IFFB%', 'HR/FB',\n",
        "#         'Pull%', 'Cent%', 'Oppo%', 'SwStr%',\n",
        "#         'OBP', 'SLG', 'OPS', 'ISO', 'Spd', 'wSB', 'wRC', 'wRAA', 'wOBA', 'wRC+',\n",
        "#         'AVG', 'PA', 'K%', 'BB%', 'HR',\n",
        "#         # Here we drop any columns that are not target variables:\n",
        "#         'Level_A+', 'Level_A-', 'Level_AA', 'Level_AAA', 'Level_CPX', 'Level_DSL', 'Level_R'\n",
        "#     ], errors='ignore'),\n",
        "#     test_size=0.25, random_state=42\n",
        "# )\n",
        "\n",
        "# # For 24-year-olds:\n",
        "# bat24XTrain, bat24XTest, bat24YTrain, bat24YTest = train_test_split(\n",
        "#     batting24.drop(columns=[\n",
        "#         'Season', 'Name', 'Team', 'Age',\n",
        "#         'G', 'AB', 'H', '1B', '2B', '3B', 'R', 'RBI', 'BB', 'IBB', 'SO',\n",
        "#         'HBP', 'SF', 'SH', 'GDP', 'SB', 'CS',\n",
        "#         'PlayerId', 'NameASCII', 'MLBAMID',\n",
        "#         'BABIP', 'GB/FB', 'LD%', 'GB%', 'FB%', 'IFFB%', 'HR/FB',\n",
        "#         'Pull%', 'Cent%', 'Oppo%', 'SwStr%',\n",
        "#         'OBP', 'SLG', 'OPS', 'ISO', 'Spd', 'wSB', 'wRC', 'wRAA', 'wOBA', 'wRC+',\n",
        "#         'AVG', 'PA', 'K%', 'BB%', 'HR',\n",
        "#         'AVG24', 'PA24', 'BABIP24', 'K%24', 'BB%24', 'HR24'\n",
        "#     ], errors='ignore'),\n",
        "#     batting24.drop(columns=[\n",
        "#         'Season', 'Name', 'Team', 'Age',\n",
        "#         'G', 'AB', 'H', '1B', '2B', '3B', 'R', 'RBI', 'BB', 'IBB', 'SO',\n",
        "#         'HBP', 'SF', 'SH', 'GDP', 'SB', 'CS',\n",
        "#         'PlayerId', 'NameASCII', 'MLBAMID',\n",
        "#         'BABIP', 'GB/FB', 'LD%', 'GB%', 'FB%', 'IFFB%', 'HR/FB',\n",
        "#         'Pull%', 'Cent%', 'Oppo%', 'SwStr%',\n",
        "#         'OBP', 'SLG', 'OPS', 'ISO', 'Spd', 'wSB', 'wRC', 'wRAA', 'wOBA', 'wRC+',\n",
        "#         'AVG', 'PA', 'K%', 'BB%', 'HR',\n",
        "#         'Level_A+', 'Level_A-', 'Level_AA', 'Level_AAA', 'Level_CPX', 'Level_DSL', 'Level_R'\n",
        "#     ], errors='ignore'),\n",
        "#     test_size=0.25, random_state=42\n",
        "# )\n",
        "\n",
        "# bat27XTrain = bat27XTrain.fillna(0)\n",
        "# bat27XTest = bat27XTest.fillna(0)\n",
        "# bat27YTrain = bat27YTrain.fillna(0)\n",
        "# bat27YTest = bat27YTest.fillna(0)"
      ],
      "metadata": {
        "colab": {
          "base_uri": "https://localhost:8080/"
        },
        "id": "PathQnKmkIJW",
        "outputId": "c098fe4f-be45-4d04-dd81-cf57dfb8f225"
      },
      "execution_count": null,
      "outputs": [
        {
          "output_type": "stream",
          "name": "stderr",
          "text": [
            "<ipython-input-74-5c0c3d684801>:58: FutureWarning: Downcasting object dtype arrays on .fillna, .ffill, .bfill is deprecated and will change in a future version. Call result.infer_objects(copy=False) instead. To opt-in to the future behavior, set `pd.set_option('future.no_silent_downcasting', True)`\n",
            "  bat27XTrain = bat27XTrain.fillna(0)\n",
            "<ipython-input-74-5c0c3d684801>:59: FutureWarning: Downcasting object dtype arrays on .fillna, .ffill, .bfill is deprecated and will change in a future version. Call result.infer_objects(copy=False) instead. To opt-in to the future behavior, set `pd.set_option('future.no_silent_downcasting', True)`\n",
            "  bat27XTest = bat27XTest.fillna(0)\n"
          ]
        }
      ]
    },
    {
      "cell_type": "code",
      "source": [
        "# Define the target columns for batting (for 27-year-olds)\n",
        "target_cols_bat = ['AVG27', 'PA27', 'BABIP27', 'K%27', 'BB%27', 'HR27']\n",
        "\n",
        "# HIGHLIGHT: Extract only the target columns to create the target matrix (Y)\n",
        "Y_bat27 = batting27[target_cols_bat].copy()\n",
        "print(\"Batting target matrix shape:\", Y_bat27.shape)\n",
        "\n",
        "# HIGHLIGHT: Create the feature matrix (X) by dropping identifiers, raw stats,\n",
        "# and also the target columns from batting27.\n",
        "drop_cols_bat = [\n",
        "    'Season', 'Name', 'Team', 'Age',\n",
        "    'G', 'AB', 'H', '1B', '2B', '3B', 'R', 'RBI', 'BB', 'IBB', 'SO',\n",
        "    'HBP', 'SF', 'SH', 'GDP', 'SB', 'CS',\n",
        "    'PlayerId', 'NameASCII', 'MLBAMID',\n",
        "    'BABIP', 'GB/FB', 'LD%', 'GB%', 'FB%', 'IFFB%', 'HR/FB',\n",
        "    'Pull%', 'Cent%', 'Oppo%', 'SwStr%',\n",
        "    'OBP', 'SLG', 'OPS', 'ISO', 'Spd', 'wSB', 'wRC', 'wRAA', 'wOBA', 'wRC+'\n",
        "] + target_cols_bat   # Also drop the target columns so they're not used as features\n",
        "\n",
        "X_bat27 = batting27.drop(columns=drop_cols_bat, errors='ignore')\n",
        "print(\"Batting feature matrix shape:\", X_bat27.shape)\n",
        "\n",
        "# Now perform the train/test split using the newly defined X and Y:\n",
        "from sklearn.model_selection import train_test_split\n",
        "\n",
        "bat27XTrain, bat27XTest, bat27YTrain, bat27YTest = train_test_split(\n",
        "    X_bat27, Y_bat27, test_size=0.25, random_state=42\n",
        ")\n",
        "\n",
        "# Fill any NaN values with 0 (consistent with pitching pipeline)\n",
        "bat27XTrain = bat27XTrain.fillna(0)\n",
        "bat27XTest = bat27XTest.fillna(0)\n",
        "bat27YTrain = bat27YTrain.fillna(0)\n",
        "bat27YTest = bat27YTest.fillna(0)"
      ],
      "metadata": {
        "colab": {
          "base_uri": "https://localhost:8080/"
        },
        "id": "mFKxtQBz0YbG",
        "outputId": "2bd83d9a-4163-474d-a923-7a5582a62e1f"
      },
      "execution_count": null,
      "outputs": [
        {
          "output_type": "stream",
          "name": "stdout",
          "text": [
            "Batting target matrix shape: (5533, 6)\n",
            "Batting feature matrix shape: (5533, 27)\n"
          ]
        },
        {
          "output_type": "stream",
          "name": "stderr",
          "text": [
            "<ipython-input-83-db6052ce890a>:31: FutureWarning: Downcasting object dtype arrays on .fillna, .ffill, .bfill is deprecated and will change in a future version. Call result.infer_objects(copy=False) instead. To opt-in to the future behavior, set `pd.set_option('future.no_silent_downcasting', True)`\n",
            "  bat27XTrain = bat27XTrain.fillna(0)\n",
            "<ipython-input-83-db6052ce890a>:32: FutureWarning: Downcasting object dtype arrays on .fillna, .ffill, .bfill is deprecated and will change in a future version. Call result.infer_objects(copy=False) instead. To opt-in to the future behavior, set `pd.set_option('future.no_silent_downcasting', True)`\n",
            "  bat27XTest = bat27XTest.fillna(0)\n"
          ]
        }
      ]
    },
    {
      "cell_type": "code",
      "source": [
        "mlp_reg = MLPRegressor(hidden_layer_sizes=[20, 4],\n",
        "                       random_state=42,\n",
        "                       activation='relu',\n",
        "                       max_iter=1000,\n",
        "                       warm_start=False)\n",
        "\n",
        "bat_pipeline27 = make_pipeline(StandardScaler(), mlp_reg)\n",
        "# bat_pipeline27 = make_pipeline(mlp_reg)\n",
        "bat_pipeline27.fit(bat27XTrain, bat27YTrain)"
      ],
      "metadata": {
        "colab": {
          "base_uri": "https://localhost:8080/",
          "height": 212
        },
        "id": "gYjdCp4MmUHP",
        "outputId": "1f89b28b-ba93-4c00-d435-d2ada627a95c"
      },
      "execution_count": 103,
      "outputs": [
        {
          "output_type": "stream",
          "name": "stderr",
          "text": [
            "/usr/local/lib/python3.11/dist-packages/sklearn/neural_network/_multilayer_perceptron.py:691: ConvergenceWarning: Stochastic Optimizer: Maximum iterations (1000) reached and the optimization hasn't converged yet.\n",
            "  warnings.warn(\n"
          ]
        },
        {
          "output_type": "execute_result",
          "data": {
            "text/plain": [
              "Pipeline(steps=[('standardscaler', StandardScaler()),\n",
              "                ('mlpregressor',\n",
              "                 MLPRegressor(hidden_layer_sizes=[20, 4], max_iter=1000,\n",
              "                              random_state=42))])"
            ],
            "text/html": [
              "<style>#sk-container-id-6 {\n",
              "  /* Definition of color scheme common for light and dark mode */\n",
              "  --sklearn-color-text: #000;\n",
              "  --sklearn-color-text-muted: #666;\n",
              "  --sklearn-color-line: gray;\n",
              "  /* Definition of color scheme for unfitted estimators */\n",
              "  --sklearn-color-unfitted-level-0: #fff5e6;\n",
              "  --sklearn-color-unfitted-level-1: #f6e4d2;\n",
              "  --sklearn-color-unfitted-level-2: #ffe0b3;\n",
              "  --sklearn-color-unfitted-level-3: chocolate;\n",
              "  /* Definition of color scheme for fitted estimators */\n",
              "  --sklearn-color-fitted-level-0: #f0f8ff;\n",
              "  --sklearn-color-fitted-level-1: #d4ebff;\n",
              "  --sklearn-color-fitted-level-2: #b3dbfd;\n",
              "  --sklearn-color-fitted-level-3: cornflowerblue;\n",
              "\n",
              "  /* Specific color for light theme */\n",
              "  --sklearn-color-text-on-default-background: var(--sg-text-color, var(--theme-code-foreground, var(--jp-content-font-color1, black)));\n",
              "  --sklearn-color-background: var(--sg-background-color, var(--theme-background, var(--jp-layout-color0, white)));\n",
              "  --sklearn-color-border-box: var(--sg-text-color, var(--theme-code-foreground, var(--jp-content-font-color1, black)));\n",
              "  --sklearn-color-icon: #696969;\n",
              "\n",
              "  @media (prefers-color-scheme: dark) {\n",
              "    /* Redefinition of color scheme for dark theme */\n",
              "    --sklearn-color-text-on-default-background: var(--sg-text-color, var(--theme-code-foreground, var(--jp-content-font-color1, white)));\n",
              "    --sklearn-color-background: var(--sg-background-color, var(--theme-background, var(--jp-layout-color0, #111)));\n",
              "    --sklearn-color-border-box: var(--sg-text-color, var(--theme-code-foreground, var(--jp-content-font-color1, white)));\n",
              "    --sklearn-color-icon: #878787;\n",
              "  }\n",
              "}\n",
              "\n",
              "#sk-container-id-6 {\n",
              "  color: var(--sklearn-color-text);\n",
              "}\n",
              "\n",
              "#sk-container-id-6 pre {\n",
              "  padding: 0;\n",
              "}\n",
              "\n",
              "#sk-container-id-6 input.sk-hidden--visually {\n",
              "  border: 0;\n",
              "  clip: rect(1px 1px 1px 1px);\n",
              "  clip: rect(1px, 1px, 1px, 1px);\n",
              "  height: 1px;\n",
              "  margin: -1px;\n",
              "  overflow: hidden;\n",
              "  padding: 0;\n",
              "  position: absolute;\n",
              "  width: 1px;\n",
              "}\n",
              "\n",
              "#sk-container-id-6 div.sk-dashed-wrapped {\n",
              "  border: 1px dashed var(--sklearn-color-line);\n",
              "  margin: 0 0.4em 0.5em 0.4em;\n",
              "  box-sizing: border-box;\n",
              "  padding-bottom: 0.4em;\n",
              "  background-color: var(--sklearn-color-background);\n",
              "}\n",
              "\n",
              "#sk-container-id-6 div.sk-container {\n",
              "  /* jupyter's `normalize.less` sets `[hidden] { display: none; }`\n",
              "     but bootstrap.min.css set `[hidden] { display: none !important; }`\n",
              "     so we also need the `!important` here to be able to override the\n",
              "     default hidden behavior on the sphinx rendered scikit-learn.org.\n",
              "     See: https://github.com/scikit-learn/scikit-learn/issues/21755 */\n",
              "  display: inline-block !important;\n",
              "  position: relative;\n",
              "}\n",
              "\n",
              "#sk-container-id-6 div.sk-text-repr-fallback {\n",
              "  display: none;\n",
              "}\n",
              "\n",
              "div.sk-parallel-item,\n",
              "div.sk-serial,\n",
              "div.sk-item {\n",
              "  /* draw centered vertical line to link estimators */\n",
              "  background-image: linear-gradient(var(--sklearn-color-text-on-default-background), var(--sklearn-color-text-on-default-background));\n",
              "  background-size: 2px 100%;\n",
              "  background-repeat: no-repeat;\n",
              "  background-position: center center;\n",
              "}\n",
              "\n",
              "/* Parallel-specific style estimator block */\n",
              "\n",
              "#sk-container-id-6 div.sk-parallel-item::after {\n",
              "  content: \"\";\n",
              "  width: 100%;\n",
              "  border-bottom: 2px solid var(--sklearn-color-text-on-default-background);\n",
              "  flex-grow: 1;\n",
              "}\n",
              "\n",
              "#sk-container-id-6 div.sk-parallel {\n",
              "  display: flex;\n",
              "  align-items: stretch;\n",
              "  justify-content: center;\n",
              "  background-color: var(--sklearn-color-background);\n",
              "  position: relative;\n",
              "}\n",
              "\n",
              "#sk-container-id-6 div.sk-parallel-item {\n",
              "  display: flex;\n",
              "  flex-direction: column;\n",
              "}\n",
              "\n",
              "#sk-container-id-6 div.sk-parallel-item:first-child::after {\n",
              "  align-self: flex-end;\n",
              "  width: 50%;\n",
              "}\n",
              "\n",
              "#sk-container-id-6 div.sk-parallel-item:last-child::after {\n",
              "  align-self: flex-start;\n",
              "  width: 50%;\n",
              "}\n",
              "\n",
              "#sk-container-id-6 div.sk-parallel-item:only-child::after {\n",
              "  width: 0;\n",
              "}\n",
              "\n",
              "/* Serial-specific style estimator block */\n",
              "\n",
              "#sk-container-id-6 div.sk-serial {\n",
              "  display: flex;\n",
              "  flex-direction: column;\n",
              "  align-items: center;\n",
              "  background-color: var(--sklearn-color-background);\n",
              "  padding-right: 1em;\n",
              "  padding-left: 1em;\n",
              "}\n",
              "\n",
              "\n",
              "/* Toggleable style: style used for estimator/Pipeline/ColumnTransformer box that is\n",
              "clickable and can be expanded/collapsed.\n",
              "- Pipeline and ColumnTransformer use this feature and define the default style\n",
              "- Estimators will overwrite some part of the style using the `sk-estimator` class\n",
              "*/\n",
              "\n",
              "/* Pipeline and ColumnTransformer style (default) */\n",
              "\n",
              "#sk-container-id-6 div.sk-toggleable {\n",
              "  /* Default theme specific background. It is overwritten whether we have a\n",
              "  specific estimator or a Pipeline/ColumnTransformer */\n",
              "  background-color: var(--sklearn-color-background);\n",
              "}\n",
              "\n",
              "/* Toggleable label */\n",
              "#sk-container-id-6 label.sk-toggleable__label {\n",
              "  cursor: pointer;\n",
              "  display: flex;\n",
              "  width: 100%;\n",
              "  margin-bottom: 0;\n",
              "  padding: 0.5em;\n",
              "  box-sizing: border-box;\n",
              "  text-align: center;\n",
              "  align-items: start;\n",
              "  justify-content: space-between;\n",
              "  gap: 0.5em;\n",
              "}\n",
              "\n",
              "#sk-container-id-6 label.sk-toggleable__label .caption {\n",
              "  font-size: 0.6rem;\n",
              "  font-weight: lighter;\n",
              "  color: var(--sklearn-color-text-muted);\n",
              "}\n",
              "\n",
              "#sk-container-id-6 label.sk-toggleable__label-arrow:before {\n",
              "  /* Arrow on the left of the label */\n",
              "  content: \"▸\";\n",
              "  float: left;\n",
              "  margin-right: 0.25em;\n",
              "  color: var(--sklearn-color-icon);\n",
              "}\n",
              "\n",
              "#sk-container-id-6 label.sk-toggleable__label-arrow:hover:before {\n",
              "  color: var(--sklearn-color-text);\n",
              "}\n",
              "\n",
              "/* Toggleable content - dropdown */\n",
              "\n",
              "#sk-container-id-6 div.sk-toggleable__content {\n",
              "  max-height: 0;\n",
              "  max-width: 0;\n",
              "  overflow: hidden;\n",
              "  text-align: left;\n",
              "  /* unfitted */\n",
              "  background-color: var(--sklearn-color-unfitted-level-0);\n",
              "}\n",
              "\n",
              "#sk-container-id-6 div.sk-toggleable__content.fitted {\n",
              "  /* fitted */\n",
              "  background-color: var(--sklearn-color-fitted-level-0);\n",
              "}\n",
              "\n",
              "#sk-container-id-6 div.sk-toggleable__content pre {\n",
              "  margin: 0.2em;\n",
              "  border-radius: 0.25em;\n",
              "  color: var(--sklearn-color-text);\n",
              "  /* unfitted */\n",
              "  background-color: var(--sklearn-color-unfitted-level-0);\n",
              "}\n",
              "\n",
              "#sk-container-id-6 div.sk-toggleable__content.fitted pre {\n",
              "  /* unfitted */\n",
              "  background-color: var(--sklearn-color-fitted-level-0);\n",
              "}\n",
              "\n",
              "#sk-container-id-6 input.sk-toggleable__control:checked~div.sk-toggleable__content {\n",
              "  /* Expand drop-down */\n",
              "  max-height: 200px;\n",
              "  max-width: 100%;\n",
              "  overflow: auto;\n",
              "}\n",
              "\n",
              "#sk-container-id-6 input.sk-toggleable__control:checked~label.sk-toggleable__label-arrow:before {\n",
              "  content: \"▾\";\n",
              "}\n",
              "\n",
              "/* Pipeline/ColumnTransformer-specific style */\n",
              "\n",
              "#sk-container-id-6 div.sk-label input.sk-toggleable__control:checked~label.sk-toggleable__label {\n",
              "  color: var(--sklearn-color-text);\n",
              "  background-color: var(--sklearn-color-unfitted-level-2);\n",
              "}\n",
              "\n",
              "#sk-container-id-6 div.sk-label.fitted input.sk-toggleable__control:checked~label.sk-toggleable__label {\n",
              "  background-color: var(--sklearn-color-fitted-level-2);\n",
              "}\n",
              "\n",
              "/* Estimator-specific style */\n",
              "\n",
              "/* Colorize estimator box */\n",
              "#sk-container-id-6 div.sk-estimator input.sk-toggleable__control:checked~label.sk-toggleable__label {\n",
              "  /* unfitted */\n",
              "  background-color: var(--sklearn-color-unfitted-level-2);\n",
              "}\n",
              "\n",
              "#sk-container-id-6 div.sk-estimator.fitted input.sk-toggleable__control:checked~label.sk-toggleable__label {\n",
              "  /* fitted */\n",
              "  background-color: var(--sklearn-color-fitted-level-2);\n",
              "}\n",
              "\n",
              "#sk-container-id-6 div.sk-label label.sk-toggleable__label,\n",
              "#sk-container-id-6 div.sk-label label {\n",
              "  /* The background is the default theme color */\n",
              "  color: var(--sklearn-color-text-on-default-background);\n",
              "}\n",
              "\n",
              "/* On hover, darken the color of the background */\n",
              "#sk-container-id-6 div.sk-label:hover label.sk-toggleable__label {\n",
              "  color: var(--sklearn-color-text);\n",
              "  background-color: var(--sklearn-color-unfitted-level-2);\n",
              "}\n",
              "\n",
              "/* Label box, darken color on hover, fitted */\n",
              "#sk-container-id-6 div.sk-label.fitted:hover label.sk-toggleable__label.fitted {\n",
              "  color: var(--sklearn-color-text);\n",
              "  background-color: var(--sklearn-color-fitted-level-2);\n",
              "}\n",
              "\n",
              "/* Estimator label */\n",
              "\n",
              "#sk-container-id-6 div.sk-label label {\n",
              "  font-family: monospace;\n",
              "  font-weight: bold;\n",
              "  display: inline-block;\n",
              "  line-height: 1.2em;\n",
              "}\n",
              "\n",
              "#sk-container-id-6 div.sk-label-container {\n",
              "  text-align: center;\n",
              "}\n",
              "\n",
              "/* Estimator-specific */\n",
              "#sk-container-id-6 div.sk-estimator {\n",
              "  font-family: monospace;\n",
              "  border: 1px dotted var(--sklearn-color-border-box);\n",
              "  border-radius: 0.25em;\n",
              "  box-sizing: border-box;\n",
              "  margin-bottom: 0.5em;\n",
              "  /* unfitted */\n",
              "  background-color: var(--sklearn-color-unfitted-level-0);\n",
              "}\n",
              "\n",
              "#sk-container-id-6 div.sk-estimator.fitted {\n",
              "  /* fitted */\n",
              "  background-color: var(--sklearn-color-fitted-level-0);\n",
              "}\n",
              "\n",
              "/* on hover */\n",
              "#sk-container-id-6 div.sk-estimator:hover {\n",
              "  /* unfitted */\n",
              "  background-color: var(--sklearn-color-unfitted-level-2);\n",
              "}\n",
              "\n",
              "#sk-container-id-6 div.sk-estimator.fitted:hover {\n",
              "  /* fitted */\n",
              "  background-color: var(--sklearn-color-fitted-level-2);\n",
              "}\n",
              "\n",
              "/* Specification for estimator info (e.g. \"i\" and \"?\") */\n",
              "\n",
              "/* Common style for \"i\" and \"?\" */\n",
              "\n",
              ".sk-estimator-doc-link,\n",
              "a:link.sk-estimator-doc-link,\n",
              "a:visited.sk-estimator-doc-link {\n",
              "  float: right;\n",
              "  font-size: smaller;\n",
              "  line-height: 1em;\n",
              "  font-family: monospace;\n",
              "  background-color: var(--sklearn-color-background);\n",
              "  border-radius: 1em;\n",
              "  height: 1em;\n",
              "  width: 1em;\n",
              "  text-decoration: none !important;\n",
              "  margin-left: 0.5em;\n",
              "  text-align: center;\n",
              "  /* unfitted */\n",
              "  border: var(--sklearn-color-unfitted-level-1) 1pt solid;\n",
              "  color: var(--sklearn-color-unfitted-level-1);\n",
              "}\n",
              "\n",
              ".sk-estimator-doc-link.fitted,\n",
              "a:link.sk-estimator-doc-link.fitted,\n",
              "a:visited.sk-estimator-doc-link.fitted {\n",
              "  /* fitted */\n",
              "  border: var(--sklearn-color-fitted-level-1) 1pt solid;\n",
              "  color: var(--sklearn-color-fitted-level-1);\n",
              "}\n",
              "\n",
              "/* On hover */\n",
              "div.sk-estimator:hover .sk-estimator-doc-link:hover,\n",
              ".sk-estimator-doc-link:hover,\n",
              "div.sk-label-container:hover .sk-estimator-doc-link:hover,\n",
              ".sk-estimator-doc-link:hover {\n",
              "  /* unfitted */\n",
              "  background-color: var(--sklearn-color-unfitted-level-3);\n",
              "  color: var(--sklearn-color-background);\n",
              "  text-decoration: none;\n",
              "}\n",
              "\n",
              "div.sk-estimator.fitted:hover .sk-estimator-doc-link.fitted:hover,\n",
              ".sk-estimator-doc-link.fitted:hover,\n",
              "div.sk-label-container:hover .sk-estimator-doc-link.fitted:hover,\n",
              ".sk-estimator-doc-link.fitted:hover {\n",
              "  /* fitted */\n",
              "  background-color: var(--sklearn-color-fitted-level-3);\n",
              "  color: var(--sklearn-color-background);\n",
              "  text-decoration: none;\n",
              "}\n",
              "\n",
              "/* Span, style for the box shown on hovering the info icon */\n",
              ".sk-estimator-doc-link span {\n",
              "  display: none;\n",
              "  z-index: 9999;\n",
              "  position: relative;\n",
              "  font-weight: normal;\n",
              "  right: .2ex;\n",
              "  padding: .5ex;\n",
              "  margin: .5ex;\n",
              "  width: min-content;\n",
              "  min-width: 20ex;\n",
              "  max-width: 50ex;\n",
              "  color: var(--sklearn-color-text);\n",
              "  box-shadow: 2pt 2pt 4pt #999;\n",
              "  /* unfitted */\n",
              "  background: var(--sklearn-color-unfitted-level-0);\n",
              "  border: .5pt solid var(--sklearn-color-unfitted-level-3);\n",
              "}\n",
              "\n",
              ".sk-estimator-doc-link.fitted span {\n",
              "  /* fitted */\n",
              "  background: var(--sklearn-color-fitted-level-0);\n",
              "  border: var(--sklearn-color-fitted-level-3);\n",
              "}\n",
              "\n",
              ".sk-estimator-doc-link:hover span {\n",
              "  display: block;\n",
              "}\n",
              "\n",
              "/* \"?\"-specific style due to the `<a>` HTML tag */\n",
              "\n",
              "#sk-container-id-6 a.estimator_doc_link {\n",
              "  float: right;\n",
              "  font-size: 1rem;\n",
              "  line-height: 1em;\n",
              "  font-family: monospace;\n",
              "  background-color: var(--sklearn-color-background);\n",
              "  border-radius: 1rem;\n",
              "  height: 1rem;\n",
              "  width: 1rem;\n",
              "  text-decoration: none;\n",
              "  /* unfitted */\n",
              "  color: var(--sklearn-color-unfitted-level-1);\n",
              "  border: var(--sklearn-color-unfitted-level-1) 1pt solid;\n",
              "}\n",
              "\n",
              "#sk-container-id-6 a.estimator_doc_link.fitted {\n",
              "  /* fitted */\n",
              "  border: var(--sklearn-color-fitted-level-1) 1pt solid;\n",
              "  color: var(--sklearn-color-fitted-level-1);\n",
              "}\n",
              "\n",
              "/* On hover */\n",
              "#sk-container-id-6 a.estimator_doc_link:hover {\n",
              "  /* unfitted */\n",
              "  background-color: var(--sklearn-color-unfitted-level-3);\n",
              "  color: var(--sklearn-color-background);\n",
              "  text-decoration: none;\n",
              "}\n",
              "\n",
              "#sk-container-id-6 a.estimator_doc_link.fitted:hover {\n",
              "  /* fitted */\n",
              "  background-color: var(--sklearn-color-fitted-level-3);\n",
              "}\n",
              "</style><div id=\"sk-container-id-6\" class=\"sk-top-container\"><div class=\"sk-text-repr-fallback\"><pre>Pipeline(steps=[(&#x27;standardscaler&#x27;, StandardScaler()),\n",
              "                (&#x27;mlpregressor&#x27;,\n",
              "                 MLPRegressor(hidden_layer_sizes=[20, 4], max_iter=1000,\n",
              "                              random_state=42))])</pre><b>In a Jupyter environment, please rerun this cell to show the HTML representation or trust the notebook. <br />On GitHub, the HTML representation is unable to render, please try loading this page with nbviewer.org.</b></div><div class=\"sk-container\" hidden><div class=\"sk-item sk-dashed-wrapped\"><div class=\"sk-label-container\"><div class=\"sk-label fitted sk-toggleable\"><input class=\"sk-toggleable__control sk-hidden--visually\" id=\"sk-estimator-id-15\" type=\"checkbox\" ><label for=\"sk-estimator-id-15\" class=\"sk-toggleable__label fitted sk-toggleable__label-arrow\"><div><div>Pipeline</div></div><div><a class=\"sk-estimator-doc-link fitted\" rel=\"noreferrer\" target=\"_blank\" href=\"https://scikit-learn.org/1.6/modules/generated/sklearn.pipeline.Pipeline.html\">?<span>Documentation for Pipeline</span></a><span class=\"sk-estimator-doc-link fitted\">i<span>Fitted</span></span></div></label><div class=\"sk-toggleable__content fitted\"><pre>Pipeline(steps=[(&#x27;standardscaler&#x27;, StandardScaler()),\n",
              "                (&#x27;mlpregressor&#x27;,\n",
              "                 MLPRegressor(hidden_layer_sizes=[20, 4], max_iter=1000,\n",
              "                              random_state=42))])</pre></div> </div></div><div class=\"sk-serial\"><div class=\"sk-item\"><div class=\"sk-estimator fitted sk-toggleable\"><input class=\"sk-toggleable__control sk-hidden--visually\" id=\"sk-estimator-id-16\" type=\"checkbox\" ><label for=\"sk-estimator-id-16\" class=\"sk-toggleable__label fitted sk-toggleable__label-arrow\"><div><div>StandardScaler</div></div><div><a class=\"sk-estimator-doc-link fitted\" rel=\"noreferrer\" target=\"_blank\" href=\"https://scikit-learn.org/1.6/modules/generated/sklearn.preprocessing.StandardScaler.html\">?<span>Documentation for StandardScaler</span></a></div></label><div class=\"sk-toggleable__content fitted\"><pre>StandardScaler()</pre></div> </div></div><div class=\"sk-item\"><div class=\"sk-estimator fitted sk-toggleable\"><input class=\"sk-toggleable__control sk-hidden--visually\" id=\"sk-estimator-id-17\" type=\"checkbox\" ><label for=\"sk-estimator-id-17\" class=\"sk-toggleable__label fitted sk-toggleable__label-arrow\"><div><div>MLPRegressor</div></div><div><a class=\"sk-estimator-doc-link fitted\" rel=\"noreferrer\" target=\"_blank\" href=\"https://scikit-learn.org/1.6/modules/generated/sklearn.neural_network.MLPRegressor.html\">?<span>Documentation for MLPRegressor</span></a></div></label><div class=\"sk-toggleable__content fitted\"><pre>MLPRegressor(hidden_layer_sizes=[20, 4], max_iter=1000, random_state=42)</pre></div> </div></div></div></div></div></div>"
            ]
          },
          "metadata": {},
          "execution_count": 103
        }
      ]
    },
    {
      "cell_type": "code",
      "source": [
        "batting27pred = bat_pipeline27.predict(bat27XTest)\n",
        "batting27pred = pd.DataFrame(batting27pred, columns=['AVG', 'PA', 'BABIP', 'K%', 'BB%', 'HR%'])\n",
        "print(batting27pred.head())"
      ],
      "metadata": {
        "colab": {
          "base_uri": "https://localhost:8080/"
        },
        "id": "e_UcDOTQ0h5W",
        "outputId": "edba3ced-1901-4582-c786-66f3f3042d29"
      },
      "execution_count": 104,
      "outputs": [
        {
          "output_type": "stream",
          "name": "stdout",
          "text": [
            "        AVG          PA     BABIP        K%       BB%        HR%\n",
            "0  0.127514   29.365795  0.158298  0.424608  0.053732   1.371815\n",
            "1  0.147175   45.252039  0.205106  0.330830  0.036825   0.203092\n",
            "2  0.238971  416.705105  0.322505  0.233857  0.077513  15.384843\n",
            "3  0.113401    6.483128  0.157469  0.351556  0.068680  -3.367858\n",
            "4  0.171783  149.303086  0.239360  0.291439  0.053466   4.147353\n"
          ]
        }
      ]
    },
    {
      "cell_type": "code",
      "source": [
        "def weighted_corr(x, y, weights):\n",
        "    # Weighted mean\n",
        "    mean_x = np.average(x, weights=weights)\n",
        "    mean_y = np.average(y, weights=weights)\n",
        "\n",
        "    # Weighted covariance\n",
        "    cov = np.average((x - mean_x) * (y - mean_y), weights=weights)\n",
        "\n",
        "    # Weighted variances\n",
        "    var_x = np.average((x - mean_x)**2, weights=weights)\n",
        "    var_y = np.average((y - mean_y)**2, weights=weights)\n",
        "\n",
        "    # Compute weighted correlation\n",
        "    corr = cov / np.sqrt(var_x * var_y)\n",
        "    return corr\n"
      ],
      "metadata": {
        "id": "S0v9rsec0_VN"
      },
      "execution_count": 108,
      "outputs": []
    },
    {
      "cell_type": "code",
      "source": [
        "fig, ax = plt.subplots(1, 1, figsize=(6, 6))\n",
        "ax.scatter(batting27pred['AVG'], bat27YTest['AVG27'])\n",
        "x = batting27pred['AVG'].reset_index(drop=True)\n",
        "y = bat27YTest['AVG27'].reset_index(drop=True)\n",
        "weights = bat27YTest['PA27'].reset_index(drop=True)\n",
        "corr_avg = weighted_corr(x, y, weights)\n",
        "print(\"Weighted correlation for AVG:\", corr_avg)"
      ],
      "metadata": {
        "colab": {
          "base_uri": "https://localhost:8080/",
          "height": 540
        },
        "id": "qA-QUZ3H1JW2",
        "outputId": "6f76b171-2e91-47b3-875d-88a7119cdc6f"
      },
      "execution_count": 109,
      "outputs": [
        {
          "output_type": "stream",
          "name": "stdout",
          "text": [
            "Weighted correlation for AVG: 0.5294010323090266\n"
          ]
        },
        {
          "output_type": "display_data",
          "data": {
            "text/plain": [
              "<Figure size 600x600 with 1 Axes>"
            ],
            "image/png": "[encoded data removed]"
          },
          "metadata": {}
        }
      ]
    },
    {
      "cell_type": "code",
      "source": [
        "fig, ax = plt.subplots(1, 1, figsize=(6, 6))\n",
        "ax.scatter(batting27pred['PA'], bat27YTest['PA27'])\n",
        "x = batting27pred['PA'].reset_index(drop=True)\n",
        "y = bat27YTest['PA27'].reset_index(drop=True)\n",
        "weights = bat27YTest['PA27'].reset_index(drop=True)\n",
        "corr_pa = weighted_corr(x, y, weights)\n",
        "print(\"Weighted correlation for PA:\", corr_pa)"
      ],
      "metadata": {
        "colab": {
          "base_uri": "https://localhost:8080/",
          "height": 540
        },
        "id": "Si4_lodd2p7C",
        "outputId": "6bcf75ce-489b-406b-df7a-851a04720ed6"
      },
      "execution_count": 110,
      "outputs": [
        {
          "output_type": "stream",
          "name": "stdout",
          "text": [
            "Weighted correlation for PA: 0.9544968768797362\n"
          ]
        },
        {
          "output_type": "display_data",
          "data": {
            "text/plain": [
              "<Figure size 600x600 with 1 Axes>"
            ],
            "image/png": "[encoded data removed]"
          },
          "metadata": {}
        }
      ]
    },
    {
      "cell_type": "code",
      "source": [
        "fig, ax = plt.subplots(1, 1, figsize=(6, 6))\n",
        "ax.scatter(batting27pred['BABIP'], bat27YTest['BABIP27'])\n",
        "x = batting27pred['BABIP'].reset_index(drop=True)\n",
        "y = bat27YTest['BABIP27'].reset_index(drop=True)\n",
        "weights = bat27YTest['PA27'].reset_index(drop=True)\n",
        "corr_babip = weighted_corr(x, y, weights)\n",
        "print(\"Weighted correlation for BABIP:\", corr_babip)"
      ],
      "metadata": {
        "colab": {
          "base_uri": "https://localhost:8080/",
          "height": 540
        },
        "id": "mZZV53qb2rl1",
        "outputId": "ef487838-61ef-4e04-bd0d-fbae16283ea3"
      },
      "execution_count": 111,
      "outputs": [
        {
          "output_type": "stream",
          "name": "stdout",
          "text": [
            "Weighted correlation for BABIP: 0.31261275018045687\n"
          ]
        },
        {
          "output_type": "display_data",
          "data": {
            "text/plain": [
              "<Figure size 600x600 with 1 Axes>"
            ],
            "image/png": "[encoded data removed]"
          },
          "metadata": {}
        }
      ]
    },
    {
      "cell_type": "code",
      "source": [
        "fig, ax = plt.subplots(1, 1, figsize=(6, 6))\n",
        "ax.scatter(batting27pred['K%'], bat27YTest['K%27'])\n",
        "x = batting27pred['K%'].reset_index(drop=True)\n",
        "y = bat27YTest['K%27'].reset_index(drop=True)\n",
        "weights = bat27YTest['PA27'].reset_index(drop=True)\n",
        "corr_k = weighted_corr(x, y, weights)\n",
        "print(\"Weighted correlation for K%:\", corr_k)"
      ],
      "metadata": {
        "colab": {
          "base_uri": "https://localhost:8080/",
          "height": 540
        },
        "id": "PW6A6MjZ2uOD",
        "outputId": "1f9c8bc8-7823-4e17-a2cd-d85b8f2d60b8"
      },
      "execution_count": 112,
      "outputs": [
        {
          "output_type": "stream",
          "name": "stdout",
          "text": [
            "Weighted correlation for K%: 0.4576170729174102\n"
          ]
        },
        {
          "output_type": "display_data",
          "data": {
            "text/plain": [
              "<Figure size 600x600 with 1 Axes>"
            ],
            "image/png": "[encoded data removed]"
          },
          "metadata": {}
        }
      ]
    },
    {
      "cell_type": "code",
      "source": [
        "fig, ax = plt.subplots(1, 1, figsize=(6, 6))\n",
        "ax.scatter(batting27pred['BB%'], bat27YTest['BB%27'])\n",
        "x = batting27pred['BB%'].reset_index(drop=True)\n",
        "y = bat27YTest['BB%27'].reset_index(drop=True)\n",
        "weights = bat27YTest['PA27'].reset_index(drop=True)\n",
        "corr_bb = weighted_corr(x, y, weights)\n",
        "print(\"Weighted correlation for BB%:\", corr_bb)"
      ],
      "metadata": {
        "colab": {
          "base_uri": "https://localhost:8080/",
          "height": 540
        },
        "id": "30QqKcT52w2x",
        "outputId": "c46a1bff-d68b-4771-f2e0-378d5df9bc0b"
      },
      "execution_count": 113,
      "outputs": [
        {
          "output_type": "stream",
          "name": "stdout",
          "text": [
            "Weighted correlation for BB%: 0.2704358277492328\n"
          ]
        },
        {
          "output_type": "display_data",
          "data": {
            "text/plain": [
              "<Figure size 600x600 with 1 Axes>"
            ],
            "image/png": "[encoded data removed]"
          },
          "metadata": {}
        }
      ]
    },
    {
      "cell_type": "code",
      "source": [
        "fig, ax = plt.subplots(1, 1, figsize=(6, 6))\n",
        "ax.scatter(batting27pred['HR%'], bat27YTest['HR27'])\n",
        "x = batting27pred['HR%'].reset_index(drop=True)\n",
        "y = bat27YTest['HR27'].reset_index(drop=True)\n",
        "weights = bat27YTest['PA27'].reset_index(drop=True)\n",
        "corr_hr = weighted_corr(x, y, weights)\n",
        "print(\"Weighted correlation for HR%:\", corr_hr)"
      ],
      "metadata": {
        "colab": {
          "base_uri": "https://localhost:8080/",
          "height": 540
        },
        "id": "_eRPcYfK2zO4",
        "outputId": "d3f087ff-6e87-4faf-8bc9-5eee49fc956d"
      },
      "execution_count": 114,
      "outputs": [
        {
          "output_type": "stream",
          "name": "stdout",
          "text": [
            "Weighted correlation for HR%: 0.7336329433301182\n"
          ]
        },
        {
          "output_type": "display_data",
          "data": {
            "text/plain": [
              "<Figure size 600x600 with 1 Axes>"
            ],
            "image/png": "[encoded data removed]"
          },
          "metadata": {}
        }
      ]
    }
  ]
}