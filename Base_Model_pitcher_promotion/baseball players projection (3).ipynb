{
 "cells": [
  {
   "cell_type": "code",
   "execution_count": 1,
   "id": "4b1ccd2d-2ba3-464b-9bc3-4aafffe9906e",
   "metadata": {},
   "outputs": [],
   "source": [
    "import numpy as np\n",
    "import pandas as pd"
   ]
  },
  {
   "cell_type": "code",
   "execution_count": 2,
   "id": "b3211799-0ec5-4228-9014-6300bee4343c",
   "metadata": {},
   "outputs": [],
   "source": [
    "pit_adv = pd.read_csv('minors_pitching_advanced.csv')\n",
    "pit_profile = pd.read_csv('minors_pitching_profile.csv')\n",
    "pit_std = pd.read_csv('minors_pitching_standard.csv')\n",
    "pit_prom = pd.read_csv('promotedpitchers.csv')\n",
    "\n",
    "bat_adv = pd.read_csv('minors_batting_advanced.csv')\n",
    "bat_profile = pd.read_csv('minors_batting_profile.csv')\n",
    "bat_std = pd.read_csv('minors_batting_standard.csv')\n",
    "bat_prom = pd.read_csv('promotedbatters.csv')"
   ]
  },
  {
   "cell_type": "code",
   "execution_count": 3,
   "id": "a21fdb0b-efc5-4244-b928-05baa307469d",
   "metadata": {},
   "outputs": [],
   "source": [
    "## add promoted column to both batter and pitchers df\n",
    "\n",
    "pit_adv['promoted_major'] = pit_adv.merge(pit_prom.assign(promoted_major=1),\n",
    "                                          on=[\"Name\", \"Season\"], how=\"left\")[\"promoted_major\"].fillna(0).astype(int)\n",
    "\n",
    "pit_profile['promoted_major'] = pit_profile.merge(pit_prom.assign(promoted_major=1),\n",
    "                                          on=[\"Name\", \"Season\"], how=\"left\")[\"promoted_major\"].fillna(0).astype(int)\n",
    "\n",
    "\n",
    "pit_std['promoted_major'] = pit_std.merge(pit_prom.assign(promoted_major=1),\n",
    "                                          on=[\"Name\", \"Season\"], how=\"left\")[\"promoted_major\"].fillna(0).astype(int)\n",
    "\n",
    "\n",
    "\n",
    "\n",
    "\n",
    "bat_adv['promoted_major'] = bat_adv.merge(bat_prom.assign(promoted_major=1),\n",
    "                                          on=[\"Name\", \"Season\"], how=\"left\")[\"promoted_major\"].fillna(0).astype(int)\n",
    "\n",
    "bat_profile['promoted_major'] = bat_profile.merge(bat_prom.assign(promoted_major=1),\n",
    "                                          on=[\"Name\", \"Season\"], how=\"left\")[\"promoted_major\"].fillna(0).astype(int)\n",
    "\n",
    "\n",
    "bat_std['promoted_major'] = bat_std.merge(bat_prom.assign(promoted_major=1),\n",
    "                                          on=[\"Name\", \"Season\"], how=\"left\")[\"promoted_major\"].fillna(0).astype(int)\n"
   ]
  },
  {
   "cell_type": "code",
   "execution_count": 4,
   "id": "4d0a47a3-d2fb-4b41-8f9d-31208286005d",
   "metadata": {},
   "outputs": [],
   "source": [
    "bat_adv.to_csv('final_batter_advanced.csv',  index=False)\n",
    "bat_profile.to_csv('final_batter_profile.csv', index=False)\n",
    "bat_std.to_csv('final_batter_standard.csv', index=False)\n",
    "\n",
    "pit_adv.to_csv('final_pitcher_advanced.csv',  index=False)\n",
    "pit_profile.to_csv('final_pitcher_profile.csv', index=False)\n",
    "pit_std.to_csv('final_pitcher_standard.csv', index=False)"
   ]
  },
  {
   "cell_type": "code",
   "execution_count": null,
   "id": "0dba945f-773a-4d63-9d5b-23f94fb64487",
   "metadata": {},
   "outputs": [],
   "source": []
  },
  {
   "cell_type": "code",
   "execution_count": 10,
   "id": "e1f78526-20e5-4c3f-aa5d-536ccc6911a8",
   "metadata": {},
   "outputs": [],
   "source": [
    "import pandas as pd\n",
    "import numpy as np\n",
    "import matplotlib.pyplot as plt\n",
    "from sklearn.model_selection import train_test_split\n",
    "from sklearn.preprocessing import StandardScaler, OneHotEncoder"
   ]
  },
  {
   "cell_type": "markdown",
   "id": "56a8eab8-674b-4bc6-ba0b-aa46e57368af",
   "metadata": {},
   "source": [
    "### Predicted from 3 sheet individually"
   ]
  },
  {
   "cell_type": "code",
   "execution_count": null,
   "id": "75aceb69-ea55-4cc6-8a90-996978e9bbef",
   "metadata": {},
   "outputs": [],
   "source": [
    "pit_adv = pit_adv.drop(['Season', 'Name', 'Team', 'PlayerId'], axis = 1)\n",
    "pit_profile = pit_profile.drop(['Season', 'Name', 'Team', 'PlayerId'], axis = 1)\n",
    "pit_std = pit_std.drop(['Season', 'Name', 'Team', 'PlayerId', 'HLD'], axis = 1)"
   ]
  },
  {
   "cell_type": "code",
   "execution_count": null,
   "id": "d5dd0782-c5ef-4ce3-a60f-7abf8458e607",
   "metadata": {},
   "outputs": [],
   "source": [
    "pit_std = pit_std.fillna(pit_std.mean(numeric_only=True))\n",
    "pit_profile = pit_profile.fillna(pit_profile.mean(numeric_only=True))\n",
    "pit_adv = pit_adv.fillna(pit_adv.mean(numeric_only=True))"
   ]
  },
  {
   "cell_type": "code",
   "execution_count": null,
   "id": "cf1748cd-e85f-4d1a-bbf7-93923f0a8ada",
   "metadata": {},
   "outputs": [],
   "source": [
    "pit_std = pit_std.loc[pit_std['Age'] <= 37, :]\n",
    "X_pit_std = pit_std.drop('promoted_major', axis=1)\n",
    "y_pit_std = pit_std.loc[:, 'promoted_major']\n",
    "\n",
    "pit_profile = pit_profile.loc[pit_profile['Age'] <= 37, :]\n",
    "X_pit_profile = pit_profile.drop('promoted_major', axis=1)\n",
    "y_pit_profile = pit_profile.loc[:, 'promoted_major']\n",
    "\n",
    "pit_adv = pit_adv.loc[pit_adv['Age'] <= 37, :]\n",
    "X_pit_adv = pit_adv.drop('promoted_major', axis=1)\n",
    "y_pit_adv = pit_adv.loc[:, 'promoted_major']"
   ]
  },
  {
   "cell_type": "code",
   "execution_count": null,
   "id": "124ea4e7-6237-4452-a32b-f117252dbc52",
   "metadata": {},
   "outputs": [],
   "source": [
    "X_pit_std_train, X_pit_std_test, y_pit_std_train, y_pit_std_test = train_test_split(X_pit_std, y_pit_std,\n",
    "                                                                                    test_size = 0.2,\n",
    "                                                                                    stratify = pit_std['promoted_major'],\n",
    "                                                                                    random_state = 42)\n",
    "\n",
    "X_pit_profile_train, X_pit_profile_test, y_pit_profile_train, y_pit_profile_test = train_test_split(X_pit_profile, y_pit_profile,\n",
    "                                                                                                    test_size = 0.2,\n",
    "                                                                                                    stratify = pit_profile['promoted_major'],\n",
    "                                                                                                    random_state = 42)\n",
    "\n",
    "X_pit_adv_train, X_pit_adv_test, y_pit_adv_train, y_pit_adv_test = train_test_split(X_pit_adv, y_pit_adv,\n",
    "                                                                                    test_size = 0.2,\n",
    "                                                                                    stratify = pit_adv['promoted_major'],\n",
    "                                                                                    random_state = 42)"
   ]
  },
  {
   "cell_type": "code",
   "execution_count": null,
   "id": "743d110d-0f73-41ff-b6ae-ec5da860568a",
   "metadata": {},
   "outputs": [],
   "source": [
    "X_pit_std_train_cate = X_pit_std_train.select_dtypes(object)\n",
    "X_pit_std_train_cate_final = pd.get_dummies(X_pit_std_train_cate, drop_first = False, dtype = int)\n",
    "\n",
    "X_pit_std_test_cate = X_pit_std_test.select_dtypes(object)\n",
    "X_pit_std_test_cate_final = pd.get_dummies(X_pit_std_test_cate, drop_first = False, dtype = int)\n",
    "\n",
    "#-----------------------------------------------------------------------------------------------------\n",
    "X_pit_profile_train_cate = X_pit_profile_train.select_dtypes(object)\n",
    "X_pit_profile_train_cate_final = pd.get_dummies(X_pit_profile_train_cate, drop_first = False, dtype = int)\n",
    "\n",
    "X_pit_profile_test_cate = X_pit_profile_test.select_dtypes(object)\n",
    "X_pit_profile_test_cate_final = pd.get_dummies(X_pit_profile_test_cate, drop_first = False, dtype = int)\n",
    "\n",
    "#------------------------------------------------------------------------------------------------\n",
    "X_pit_adv_train_cate = X_pit_adv_train.select_dtypes(object)\n",
    "X_pit_adv_train_cate_final = pd.get_dummies(X_pit_adv_train_cate, drop_first = False, dtype = int)\n",
    "\n",
    "X_pit_adv_test_cate = X_pit_adv_test.select_dtypes(object)\n",
    "X_pit_adv_test_cate_final = pd.get_dummies(X_pit_adv_test_cate, drop_first = False, dtype = int)"
   ]
  },
  {
   "cell_type": "code",
   "execution_count": null,
   "id": "ef725925-3f27-4d33-8c83-839832783d73",
   "metadata": {},
   "outputs": [],
   "source": [
    "scaler_std = StandardScaler()\n",
    "scaler_pro = StandardScaler()\n",
    "scaler_adv = StandardScaler()\n",
    "#---------------------------------------------------------------------------------------------------\n",
    "\n",
    "X_pit_std_train_num = X_pit_std_train.select_dtypes(include=[np.number])\n",
    "X_pit_std_test_num = X_pit_std_test.select_dtypes(include=[np.number])\n",
    "\n",
    "X_pit_std_train_num_scal = scaler_std.fit_transform(X_pit_std_train_num)\n",
    "X_pit_std_test_num_scal = scaler_std.transform(X_pit_std_test_num)\n",
    "\n",
    "X_pit_std_train_num_final = pd.DataFrame(data = X_pit_std_train_num_scal, \n",
    "                                     columns = X_pit_std_train_num.columns.tolist(), \n",
    "                                     index = X_pit_std_train_num.index)\n",
    "\n",
    "X_pit_std_test_num_final = pd.DataFrame(data = X_pit_std_test_num_scal, \n",
    "                                     columns = X_pit_std_test_num.columns.tolist(), \n",
    "                                     index = X_pit_std_test_num.index)\n",
    "#-----------------------------------------------------------------------------------------------------\n",
    "\n",
    "X_pit_profile_train_num = X_pit_profile_train.select_dtypes(include=[np.number])\n",
    "X_pit_profile_test_num = X_pit_profile_test.select_dtypes(include=[np.number])\n",
    "\n",
    "X_pit_profile_train_num_scal = scaler_pro.fit_transform(X_pit_profile_train_num)\n",
    "X_pit_profile_test_num_scal = scaler_pro.transform(X_pit_profile_test_num)\n",
    "\n",
    "X_pit_profile_train_num_final = pd.DataFrame(data = X_pit_profile_train_num_scal, \n",
    "                                     columns = X_pit_profile_train_num.columns.tolist(), \n",
    "                                     index = X_pit_profile_train_num.index)\n",
    "\n",
    "X_pit_profile_test_num_final = pd.DataFrame(data = X_pit_profile_test_num_scal, \n",
    "                                     columns = X_pit_profile_test_num.columns.tolist(), \n",
    "                                     index = X_pit_profile_test_num.index)\n",
    "\n",
    "#------------------------------------------------------------------------------------------------\n",
    "X_pit_adv_train_num = X_pit_adv_train.select_dtypes(include=[np.number])\n",
    "X_pit_adv_test_num = X_pit_adv_test.select_dtypes(include=[np.number])\n",
    "\n",
    "X_pit_adv_train_num_scal = scaler_adv.fit_transform(X_pit_adv_train_num)\n",
    "X_pit_adv_test_num_scal = scaler_adv.transform(X_pit_adv_test_num)\n",
    "\n",
    "X_pit_adv_train_num_final = pd.DataFrame(data = X_pit_adv_train_num_scal, \n",
    "                                     columns = X_pit_adv_train_num.columns.tolist(), \n",
    "                                     index = X_pit_adv_train_num.index)\n",
    "\n",
    "X_pit_adv_test_num_final = pd.DataFrame(data = X_pit_adv_test_num_scal, \n",
    "                                     columns = X_pit_adv_test_num.columns.tolist(), \n",
    "                                     index = X_pit_adv_test_num.index)"
   ]
  },
  {
   "cell_type": "code",
   "execution_count": null,
   "id": "ab52b291-74f5-486a-8dac-ae1ee2b406df",
   "metadata": {},
   "outputs": [],
   "source": [
    "X_pit_std_train_final = pd.merge(X_pit_std_train_cate_final,\n",
    "                                 X_pit_std_train_num_final, \n",
    "                                 right_index = True, left_index = True )\n",
    "\n",
    "X_pit_std_test_final = pd.merge(X_pit_std_test_cate_final,\n",
    "                                 X_pit_std_test_num_final, \n",
    "                                 right_index = True, left_index = True )\n",
    "\n",
    "#-------------------------------------------------------\n",
    "\n",
    "X_pit_pro_train_final = pd.merge(X_pit_profile_train_cate_final,\n",
    "                                 X_pit_profile_train_num_final, \n",
    "                                 right_index = True, left_index = True )\n",
    "\n",
    "X_pit_pro_test_final = pd.merge(X_pit_profile_test_cate_final,\n",
    "                                 X_pit_profile_test_num_final, \n",
    "                                 right_index = True, left_index = True )\n",
    "\n",
    "#-------------------------------------------------------\n",
    "\n",
    "X_pit_adv_train_final = pd.merge(X_pit_adv_train_cate_final,\n",
    "                                 X_pit_adv_train_num_final, \n",
    "                                 right_index = True, left_index = True )\n",
    "\n",
    "X_pit_adv_test_final = pd.merge(X_pit_adv_test_cate_final,\n",
    "                                 X_pit_adv_test_num_final, \n",
    "                                 right_index = True, left_index = True )"
   ]
  },
  {
   "cell_type": "code",
   "execution_count": null,
   "id": "e8051f47-b73e-4f75-aa7e-9ecf7e78d8d2",
   "metadata": {},
   "outputs": [],
   "source": [
    "## standard\n",
    "from sklearn.neural_network import MLPClassifier\n",
    "\n",
    "\n",
    "mlp_model = MLPClassifier(hidden_layer_sizes=(128, 64, 32), \n",
    "                          activation='relu', \n",
    "                          solver='adam', \n",
    "                          max_iter=500, \n",
    "                          random_state=42)\n",
    "\n",
    "# Fit the model\n",
    "mlp_model.fit(X_pit_std_train_final, y_pit_std_train)\n",
    "\n",
    "# Predict\n",
    "y_pred_std = mlp_model.predict(X_pit_std_test_final)\n",
    "y_pred_std_prob = mlp_model.predict_proba(X_pit_std_test_final)\n",
    "\n",
    "y_pred_std_train = mlp_model.predict(X_pit_std_train_final)\n",
    "y_pred_std_prob_train = mlp_model.predict_proba(X_pit_std_train_final)"
   ]
  },
  {
   "cell_type": "code",
   "execution_count": null,
   "id": "e78cd467-9686-4c31-b46d-aee3ee25a3a3",
   "metadata": {},
   "outputs": [],
   "source": [
    "# profile\n",
    "mlp_model_pro = MLPClassifier(hidden_layer_sizes=(128, 64, 32), \n",
    "                          activation='relu', \n",
    "                          solver='adam', \n",
    "                          max_iter=500, \n",
    "                          random_state=42)\n",
    "\n",
    "# Fit the model\n",
    "mlp_model_pro.fit(X_pit_pro_train_final, y_pit_profile_train)\n",
    "\n",
    "# Predict\n",
    "y_pred_pro = mlp_model_pro.predict(X_pit_pro_test_final)\n",
    "y_pred_pro_prob = mlp_model_pro.predict_proba(X_pit_pro_test_final)\n",
    "\n",
    "y_pred_pro_train = mlp_model_pro.predict(X_pit_pro_train_final)\n",
    "y_pred_pro_prob_train = mlp_model_pro.predict_proba(X_pit_pro_train_final)"
   ]
  },
  {
   "cell_type": "code",
   "execution_count": null,
   "id": "fa45ebad-4c5c-4344-9fba-2701ff75fa05",
   "metadata": {},
   "outputs": [],
   "source": [
    "#advanced\n",
    "mlp_model_adv = MLPClassifier(hidden_layer_sizes=(128, 64, 32), \n",
    "                          activation='relu', \n",
    "                          solver='adam', \n",
    "                          max_iter=500, \n",
    "                          random_state=42)\n",
    "\n",
    "# Fit the model\n",
    "mlp_model_adv.fit(X_pit_adv_train_final, y_pit_adv_train)\n",
    "\n",
    "# Predict\n",
    "y_pred_adv = mlp_model_adv.predict(X_pit_adv_test_final)\n",
    "y_pred_adv_prob = mlp_model_adv.predict_proba(X_pit_adv_test_final)\n",
    "\n",
    "y_pred_adv_train = mlp_model_adv.predict(X_pit_adv_train_final)\n",
    "y_pred_adv_train_prob = mlp_model_adv.predict_proba(X_pit_adv_train_final)"
   ]
  },
  {
   "cell_type": "code",
   "execution_count": null,
   "id": "ab23ddae-4ddb-4721-9c3a-007d98598a15",
   "metadata": {},
   "outputs": [],
   "source": [
    "from sklearn.metrics import confusion_matrix, ConfusionMatrixDisplay, accuracy_score, roc_curve\n",
    "\n",
    "print('On Predicting Training Dataset')\n",
    "print('Profile sheet accuracy score ', round(accuracy_score(y_pred_pro_train, y_pit_profile_train), 3))\n",
    "print('Standard sheet accuracy score ', round(accuracy_score(y_pred_std_train, y_pit_std_train), 3))\n",
    "print('Advanced sheet accuracy score ', round(accuracy_score(y_pred_adv_train, y_pit_adv_train), 3))\n",
    "\n",
    "print()\n",
    "print()\n",
    "print()\n",
    "\n",
    "print('On Predicting Testing Dataset')\n",
    "print('Profile sheet accuracy score ', round(accuracy_score(y_pred_pro, y_pit_profile_test), 3))\n",
    "print('Standard sheet accuracy score ', round(accuracy_score(y_pred_std, y_pit_std_test), 3))\n",
    "print('Advanced sheet accuracy score ', round(accuracy_score(y_pred_adv, y_pit_adv_test), 3))\n"
   ]
  },
  {
   "cell_type": "code",
   "execution_count": null,
   "id": "a5383c30-32dd-4285-940c-3119559905bd",
   "metadata": {},
   "outputs": [],
   "source": [
    "fig, ax1 = plt.subplots(3,1, figsize = (12,20))\n",
    "#ax1 = ax1.flatten()\n",
    "pro_cm  = confusion_matrix(y_pit_profile_test, y_pred_pro)\n",
    "pro_cm_display = ConfusionMatrixDisplay(confusion_matrix = pro_cm, display_labels = ['Did not Promote', 'Promoted'])\n",
    "pro_cm_display.plot(ax = ax1[0])\n",
    "\n",
    "std_cm  = confusion_matrix(y_pit_std_test, y_pred_std)\n",
    "std_cm_display = ConfusionMatrixDisplay(confusion_matrix = std_cm, display_labels = ['Did not Promote', 'Promoted'])\n",
    "std_cm_display.plot(ax = ax1[1])\n",
    "\n",
    "adv_cm  = confusion_matrix(y_pit_adv_test, y_pred_adv)\n",
    "adv_cm_display = ConfusionMatrixDisplay(confusion_matrix = adv_cm, display_labels = ['Did not Promote', 'Promoted'])\n",
    "adv_cm_display.plot(ax = ax1[2])"
   ]
  },
  {
   "cell_type": "code",
   "execution_count": null,
   "id": "47fe8eca-740a-4e37-8417-93b1017d75c2",
   "metadata": {},
   "outputs": [],
   "source": [
    "from sklearn.metrics import auc\n",
    "fig, ax1 = plt.subplots(3,1, figsize = (12,20))\n",
    "#ax1 = ax1.flatten()\n",
    "project_list = [[y_pit_profile_test, y_pred_pro_prob[:, 1]],\n",
    "                [y_pit_std_test, y_pred_std_prob[:, 1]],  \n",
    "                [y_pit_adv_test, y_pred_adv_prob[:, 1]]]\n",
    "\n",
    "for x in range(3):\n",
    "    fpr, tpr, thresholds = roc_curve(project_list[x][0], project_list[x][1]) \n",
    "    roc_auc = auc(fpr, tpr)\n",
    "    # Plot the ROC curve\n",
    "    ax1[x].plot(fpr, tpr, label='ROC curve (area = %0.2f)' % roc_auc)\n",
    "    ax1[x].plot([0, 1], [0, 1], 'k--')\n",
    "    ax1[x].set_xlim([0.0, 1.0])\n",
    "    ax1[x].set_ylim([0.0, 1.05])\n",
    "    ax1[x].set_xlabel('False Positive Rate')\n",
    "    ax1[x].set_ylabel('True Positive Rate')\n",
    "    ax1[x].set_title('ROC Curve')\n",
    "    ax1[x].legend()\n"
   ]
  },
  {
   "cell_type": "markdown",
   "id": "2d0a1b58-0cce-4039-9982-ec2612bcbe70",
   "metadata": {},
   "source": [
    "### Predicted with combined sheet using historical performance"
   ]
  },
  {
   "cell_type": "code",
   "execution_count": 14,
   "id": "5903ff1c-26bb-4fb2-89f9-a76864ae42a1",
   "metadata": {},
   "outputs": [],
   "source": [
    "# combining the same player to same row\n",
    "df_player = pd.merge(pit_adv, pit_profile, on = ['Season', 'Name', 'Team', 'PlayerId', 'Level', 'promoted_major'], suffixes=('', '_drop'))\n",
    "df_pit_final = pd.merge(df_player, pit_std,  on = ['Season', 'Name', 'Team', 'PlayerId','Level', 'promoted_major'], suffixes=('', '_drop'))"
   ]
  },
  {
   "cell_type": "code",
   "execution_count": 15,
   "id": "a9455920-072f-4835-81fb-9c20f87393a7",
   "metadata": {},
   "outputs": [],
   "source": [
    "df_pit_final = df_pit_final.drop(['Age_drop', 'IP_drop', 'BABIP_drop', 'ERA_drop'], axis= 1)\n"
   ]
  },
  {
   "cell_type": "code",
   "execution_count": 16,
   "id": "9715037c-906a-4496-b6bb-2961ebfb5dac",
   "metadata": {},
   "outputs": [],
   "source": [
    "#6 mins\n",
    "\n",
    "features = ['HR/9','K%','BB%','K-BB%','ERA','FIP',\n",
    "                 'E-F','WHIP','BABIP','HR/FB','GB/FB','SwStr%']\n",
    "\n",
    "total_players = df_pit_final['PlayerId'].nunique()\n",
    "\n",
    "df_pit_final = df_pit_final.sort_values(['PlayerId', 'Season'])\n",
    "player_records = []\n",
    "\n",
    "for player_id in df_pit_final['PlayerId'].unique():\n",
    "    # Get all seasons\n",
    "    player_data = df_pit_final[df_pit_final['PlayerId'] == player_id].sort_values('Season')\n",
    "\n",
    "    # create base record\n",
    "    player_record = {\n",
    "        'PlayerId': player_id,\n",
    "        'Name': player_data['Name'].iloc[0],\n",
    "        'promoted_major': player_data['promoted_major'].iloc[0],\n",
    "        'num_seasons': len(player_data)\n",
    "    }\n",
    "\n",
    "    # add each seasons data\n",
    "    for i, (_, season) in enumerate(player_data.iterrows(), 1):\n",
    "        # Add season number and metadata\n",
    "        player_record[f'Season_{i}'] = season['Season']\n",
    "        player_record[f'Age_{i}'] = season['Age']\n",
    "        player_record[f'Level_{i}'] = season['Level']\n",
    "        player_record[f'Team_{i}'] = season['Team']\n",
    "\n",
    "        # add all performance features\n",
    "        for feature in features:\n",
    "            player_record[f'{feature}_{i}'] = season[feature]\n",
    "\n",
    "    # add the record to the list\n",
    "    player_records.append(player_record)\n",
    "\n",
    "player_df = pd.DataFrame(player_records)\n",
    "\n"
   ]
  },
  {
   "cell_type": "code",
   "execution_count": 17,
   "id": "396f6d39-865a-4285-86e1-1bbd35aef5b2",
   "metadata": {},
   "outputs": [],
   "source": [
    "# 8 mins\n",
    "max_seasons = player_df['num_seasons'].max()\n",
    "def pad_seasons(row):\n",
    "    num_seasons = row['num_seasons']\n",
    "    \n",
    "    if num_seasons < max_seasons:\n",
    "        for i in range(num_seasons + 1, max_seasons + 1):\n",
    "            row[f'Season_{i}'] = np.nan\n",
    "            row[f'Age_{i}'] = np.nan\n",
    "            row[f'Level_{i}'] = np.nan\n",
    "            row[f'Team_{i}'] = np.nan\n",
    "            for feature in features:\n",
    "                row[f'{feature}_{i}'] = np.nan\n",
    "    return row\n",
    "\n",
    "player_df = player_df.apply(pad_seasons, axis=1)"
   ]
  },
  {
   "cell_type": "code",
   "execution_count": 18,
   "id": "185eacff-4aa4-41e8-85a0-6e09470e6def",
   "metadata": {},
   "outputs": [],
   "source": [
    "player_df.to_csv('player_final.csv', index=False)\n"
   ]
  },
  {
   "cell_type": "code",
   "execution_count": 19,
   "id": "4824d70c-9fb5-48fd-baf4-cca383eb1d31",
   "metadata": {},
   "outputs": [],
   "source": [
    "player_final_df = player_df\n",
    "player_final_df = player_final_df.drop([ 'Name', 'PlayerId'], axis=1)\n",
    "player_final_df = player_final_df.drop(columns=[col for col in player_final_df.columns if 'Team_' in col], axis=1)\n",
    "player_final_df = player_final_df.drop(columns=[col for col in player_final_df.columns if 'Season_' in col], axis=1)"
   ]
  },
  {
   "cell_type": "code",
   "execution_count": 20,
   "id": "aaf0fafd-8263-4d75-980e-3c288c3dc3cf",
   "metadata": {},
   "outputs": [],
   "source": [
    "level_mapping = {\"R\": 1, \"DSL\": 2, \"A-\": 3, \"A\": 4,\n",
    "                 \"A+\": 5, \"AAA\": 6, \"CPX\": 7, \"AA\": 8\n",
    "                }\n",
    "\n",
    "for col in player_final_df.columns:\n",
    "    if 'Level_' in col:\n",
    "        player_final_df[col] = player_final_df[col].map(level_mapping)\n",
    "\n",
    "\n",
    "player_final_df = player_final_df.fillna(0)"
   ]
  },
  {
   "cell_type": "code",
   "execution_count": 21,
   "id": "0bbafc89-760c-4775-b5a4-6fc2c2a7f9f0",
   "metadata": {},
   "outputs": [],
   "source": [
    "# for combine sheet model\n",
    "\n",
    "\n",
    "\n",
    "\n",
    "X_df_pit_final = player_final_df.drop('promoted_major', axis=1)\n",
    "y_df_pit_final = player_final_df.loc[:, 'promoted_major']\n",
    "\n",
    "X_com_train, X_com_test, y_com_train, y_com_test = train_test_split(X_df_pit_final, y_df_pit_final,\n",
    "                                                                                    test_size = 0.2,\n",
    "                                                                                    stratify = player_final_df['promoted_major'],\n",
    "                                                                                    random_state = 42)\n",
    "\n",
    "\n",
    "\n",
    "\n",
    "scaler_com = StandardScaler()\n",
    "\n",
    "X_com_train_num = X_com_train.select_dtypes(include=[np.number])\n",
    "X_com_test_num = X_com_test.select_dtypes(include=[np.number])\n",
    "\n",
    "X_com_train_num_scal = scaler_com.fit_transform(X_com_train_num)\n",
    "X_com_test_num_scal = scaler_com.transform(X_com_test_num)\n",
    "\n",
    "X_com_train_final = pd.DataFrame(data = X_com_train_num_scal, \n",
    "                                     columns = X_com_train_num.columns.tolist(), \n",
    "                                     index = X_com_train_num.index)\n",
    "\n",
    "X_com_test_final = pd.DataFrame(data = X_com_test_num_scal, \n",
    "                                     columns = X_com_test_num.columns.tolist(), \n",
    "                                     index = X_com_test_num.index)\n",
    "\n",
    "\n",
    "\n",
    "from sklearn.neural_network import MLPClassifier\n",
    "\n",
    "\n",
    "mlp_model_com = MLPClassifier(hidden_layer_sizes=(20,15), \n",
    "                          activation='relu', \n",
    "                          solver='adam', \n",
    "                          max_iter=500, \n",
    "                          random_state=42)\n",
    "\n",
    "# Fit the model\n",
    "mlp_model_com.fit(X_com_train_final, y_com_train)\n",
    "\n",
    "# Predict\n",
    "y_pred_com = mlp_model_com.predict(X_com_test_final)\n",
    "y_pred_com_prob = mlp_model_com.predict_proba(X_com_test_final)\n",
    "\n",
    "y_pred_com_train = mlp_model_com.predict(X_com_train_final)\n",
    "y_pred_com_prob_train = mlp_model_com.predict_proba(X_com_train_final)"
   ]
  },
  {
   "cell_type": "code",
   "execution_count": 22,
   "id": "ff067e44-5533-4c59-a416-e07b65fb58af",
   "metadata": {},
   "outputs": [
    {
     "name": "stdout",
     "output_type": "stream",
     "text": [
      "On Predicting Training Dataset\n",
      "Combine sheet accuracy score  0.991\n",
      "On Predicting Testing Dataset\n",
      "Combine sheet accuracy score  0.951\n",
      "Combine sheet recall score  0.07\n",
      "Combine sheet precision score  0.111\n"
     ]
    }
   ],
   "source": [
    "from sklearn.metrics import confusion_matrix, ConfusionMatrixDisplay, accuracy_score, roc_curve, recall_score, precision_score\n",
    "\n",
    "print('On Predicting Training Dataset')\n",
    "print('Combine sheet accuracy score ', round(accuracy_score(y_pred_com_train, y_com_train), 3))\n",
    "print('On Predicting Testing Dataset')\n",
    "print('Combine sheet accuracy score ', round(accuracy_score(y_com_test, y_pred_com), 3))\n",
    "print('Combine sheet recall score ', round(recall_score(y_com_test, y_pred_com), 3))\n",
    "print('Combine sheet precision score ', round(precision_score(y_com_test, y_pred_com), 3))"
   ]
  },
  {
   "cell_type": "code",
   "execution_count": 23,
   "id": "3f26ee7c-6323-42e9-be0a-feb7b99b9924",
   "metadata": {},
   "outputs": [
    {
     "data": {
      "text/plain": [
       "<sklearn.metrics._plot.confusion_matrix.ConfusionMatrixDisplay at 0x21f411e7e90>"
      ]
     },
     "execution_count": 23,
     "metadata": {},
     "output_type": "execute_result"
    },
    {
     "data": {
      "image/png": "[encoded data removed]",
      "text/plain": [
       "<Figure size 640x480 with 2 Axes>"
      ]
     },
     "metadata": {},
     "output_type": "display_data"
    }
   ],
   "source": [
    "#fig, ax1 = plt.subplots(1,1, figsize = (12,20))\n",
    "#ax1 = ax1.flatten()\n",
    "pro_cm  = confusion_matrix(y_com_test, y_pred_com)\n",
    "pro_cm_display = ConfusionMatrixDisplay(confusion_matrix = pro_cm, display_labels = ['Did not Promote', 'Promoted'])\n",
    "pro_cm_display.plot()"
   ]
  },
  {
   "cell_type": "code",
   "execution_count": 24,
   "id": "fd3bfee8-1990-4dcb-80ab-29051a0e39b0",
   "metadata": {},
   "outputs": [
    {
     "data": {
      "text/plain": [
       "<matplotlib.legend.Legend at 0x21f41109100>"
      ]
     },
     "execution_count": 24,
     "metadata": {},
     "output_type": "execute_result"
    },
    {
     "data": {
      "image/png": "[encoded data removed]",
      "text/plain": [
       "<Figure size 640x480 with 1 Axes>"
      ]
     },
     "metadata": {},
     "output_type": "display_data"
    }
   ],
   "source": [
    "from sklearn.metrics import auc\n",
    "\n",
    "\n",
    "\n",
    "\n",
    "fpr, tpr, thresholds = roc_curve(y_pred_com, y_pred_com_prob[:,1]) \n",
    "roc_auc = auc(fpr, tpr)\n",
    "    # Plot the ROC curve\n",
    "plt.plot(fpr, tpr, label='ROC curve (area = %0.2f)' % roc_auc)\n",
    "plt.plot([0, 1], [0, 1], 'k--')\n",
    "plt.xlim([0.0, 1.0])\n",
    "plt.ylim([0.0, 1.05])\n",
    "plt.xlabel('False Positive Rate')\n",
    "plt.ylabel('True Positive Rate')\n",
    "plt.title('ROC Curve')\n",
    "plt.legend()\n"
   ]
  },
  {
   "cell_type": "code",
   "execution_count": 99,
   "id": "4daa5fdd-457c-4c03-a9eb-0875038df89c",
   "metadata": {},
   "outputs": [
    {
     "name": "stdout",
     "output_type": "stream",
     "text": [
      "Best parameters: {'activation': 'tanh', 'alpha': 0.001, 'hidden_layer_sizes': (40, 15, 10), 'learning_rate': 'constant', 'solver': 'adam'}\n",
      "Best cross-validation average precision : 0.1994047619047619\n"
     ]
    }
   ],
   "source": [
    "# tune model  looking precision score\n",
    "# average precision fail 0\n",
    "# precision 0.182   2/11\n",
    "# recall 0.25 1/4\n",
    "# accuracy fai\n",
    "from sklearn.model_selection import GridSearchCV\n",
    "param_grid = {\n",
    "    'hidden_layer_sizes': [(50,), (100,), (50, 30), (40, 15, 10)],\n",
    "    'activation': ['relu', 'tanh'],\n",
    "    'solver': ['adam', 'sgd'],\n",
    "    'alpha': [0.001, 0.01, 0.001], \n",
    "    'learning_rate': ['constant', 'adaptive'],\n",
    "}\n",
    "mlp_com_tune = MLPClassifier(\n",
    "    max_iter=500,\n",
    "    early_stopping=True,\n",
    "    validation_fraction=0.1,\n",
    "    random_state=42\n",
    ")\n",
    "\n",
    "grid_search = GridSearchCV(mlp_com_tune, param_grid, cv=8, n_jobs= -1, scoring = 'precision')\n",
    "grid_search.fit(X_com_train_final, y_com_train)\n",
    "\n",
    "\n",
    "print(\"Best parameters:\", grid_search.best_params_)\n",
    "print(\"Best cross-validation average precision :\", grid_search.best_score_)"
   ]
  },
  {
   "cell_type": "code",
   "execution_count": 100,
   "id": "eb226fa1-4258-402c-bf0e-7435774f9b9d",
   "metadata": {},
   "outputs": [],
   "source": [
    "best_pram = grid_search.best_params_\n",
    "mlp_com_final = MLPClassifier(**best_pram, max_iter=500,  early_stopping=True,\n",
    "                              validation_fraction=0.1, random_state=42)\n",
    "\n",
    "mlp_com_final.fit(X_com_train_final, y_com_train)\n",
    "\n",
    "# Predict\n",
    "y_pred_com_final = mlp_com_final.predict(X_com_test_final)\n",
    "y_pred_com_prob_final = mlp_com_final.predict_proba(X_com_test_final)\n",
    "\n",
    "y_pred_com_train_final = mlp_com_final.predict(X_com_train_final)\n",
    "y_pred_com_prob_train_final = mlp_com_final.predict_proba(X_com_train_final)"
   ]
  },
  {
   "cell_type": "code",
   "execution_count": 101,
   "id": "babd89fb-d0d2-41f1-b557-ddba9ce987c7",
   "metadata": {},
   "outputs": [
    {
     "name": "stdout",
     "output_type": "stream",
     "text": [
      "On Predicting Training Dataset\n",
      "Combine sheet accuracy score  0.972\n",
      "On Predicting Testing Dataset\n",
      "Combine sheet accuracy score  0.966\n",
      "Combine sheet recall score  0.013\n",
      "Combine sheet precision score  0.182\n"
     ]
    }
   ],
   "source": [
    "\n",
    "\n",
    "print('On Predicting Training Dataset')\n",
    "print('Combine sheet accuracy score ', round(accuracy_score(y_pred_com_train_final, y_com_train), 3))\n",
    "print('On Predicting Testing Dataset')\n",
    "print('Combine sheet accuracy score ', round(accuracy_score(y_com_test, y_pred_com_final), 3))\n",
    "print('Combine sheet recall score ', round(recall_score(y_com_test, y_pred_com_final), 3))\n",
    "print('Combine sheet precision score ', round(precision_score(y_com_test, y_pred_com_final), 3))"
   ]
  },
  {
   "cell_type": "code",
   "execution_count": 102,
   "id": "4441f84d-1f80-42fe-b2ae-6064c8f441fa",
   "metadata": {},
   "outputs": [
    {
     "data": {
      "text/plain": [
       "<sklearn.metrics._plot.confusion_matrix.ConfusionMatrixDisplay at 0x21f112f1ca0>"
      ]
     },
     "execution_count": 102,
     "metadata": {},
     "output_type": "execute_result"
    },
    {
     "data": {
      "image/png": "[encoded data removed]",
      "text/plain": [
       "<Figure size 640x480 with 2 Axes>"
      ]
     },
     "metadata": {},
     "output_type": "display_data"
    }
   ],
   "source": [
    "#fig, ax1 = plt.subplots(1,1, figsize = (12,20))\n",
    "#ax1 = ax1.flatten()\n",
    "pro_cm  = confusion_matrix(y_com_test, y_pred_com_final)\n",
    "pro_cm_display = ConfusionMatrixDisplay(confusion_matrix = pro_cm, display_labels = ['Did not Promote', 'Promoted'])\n",
    "pro_cm_display.plot()"
   ]
  },
  {
   "cell_type": "code",
   "execution_count": 103,
   "id": "cb4627b8-7ff8-452f-aba9-2f68ea00139a",
   "metadata": {},
   "outputs": [
    {
     "data": {
      "text/plain": [
       "promoted_major\n",
       "0    4603\n",
       "1     157\n",
       "Name: count, dtype: int64"
      ]
     },
     "execution_count": 103,
     "metadata": {},
     "output_type": "execute_result"
    }
   ],
   "source": [
    "y_com_test.value_counts()"
   ]
  },
  {
   "cell_type": "code",
   "execution_count": 123,
   "id": "f9cfd1f9-b9d5-4b5c-b3ea-6bdfcf35dd7b",
   "metadata": {},
   "outputs": [],
   "source": [
    "X_com_pred_eda = X_com_test_final\n",
    "X_com_pred_eda['Prediction'] = y_pred_com_final\n",
    "X_com_pred_eda['actual'] = y_com_test"
   ]
  },
  {
   "cell_type": "code",
   "execution_count": 127,
   "id": "827747ba-65a6-4cb3-8489-56ad9bd20e51",
   "metadata": {},
   "outputs": [],
   "source": [
    "X_com_pred_eda.to_csv('Result.csv')"
   ]
  }
 ],
 "metadata": {
  "kernelspec": {
   "display_name": "Python 3 (ipykernel)",
   "language": "python",
   "name": "python3"
  },
  "language_info": {
   "codemirror_mode": {
    "name": "ipython",
    "version": 3
   },
   "file_extension": ".py",
   "mimetype": "text/x-python",
   "name": "python",
   "nbconvert_exporter": "python",
   "pygments_lexer": "ipython3",
   "version": "3.12.7"
  }
 },
 "nbformat": 4,
 "nbformat_minor": 5
}
